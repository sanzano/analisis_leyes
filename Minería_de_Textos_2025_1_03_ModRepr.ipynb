{
  "nbformat": 4,
  "nbformat_minor": 0,
  "metadata": {
    "colab": {
      "provenance": []
    },
    "kernelspec": {
      "name": "python3",
      "display_name": "Python 3"
    },
    "language_info": {
      "name": "python"
    }
  },
  "cells": [
    {
      "cell_type": "markdown",
      "source": [
        "# Ejemplo de modelo de bolsa de palabras (Bag of Words)"
      ],
      "metadata": {
        "id": "uMP15MWexlBr"
      }
    },
    {
      "cell_type": "markdown",
      "source": [
        "HOLA MARIANA, PRUEBA DE JENNY"
      ],
      "metadata": {
        "id": "6BRq8vGk0ecd"
      }
    },
    {
      "cell_type": "markdown",
      "source": [
        "Este cuaderno es un ejemplo práctico de cómo se construye un modelo de bolsa de palabras a partir de un conjunto de documentos.\n",
        "\n",
        "Para este ejemplo en específico vamos a utilizar un conjunto de datos público en español: Conjunto de oraciones en español que viene con `nltk`."
      ],
      "metadata": {
        "id": "OeR7JcLYxrFD"
      }
    },
    {
      "cell_type": "markdown",
      "source": [
        "Holaaaaa\n"
      ],
      "metadata": {
        "id": "_wqPdsd002z0"
      }
    },
    {
      "cell_type": "markdown",
      "source": [
        "## 1. Importar librerías y descargar datos"
      ],
      "metadata": {
        "id": "TtRHAxF0yGwL"
      }
    },
    {
      "cell_type": "code",
      "execution_count": null,
      "metadata": {
        "colab": {
          "base_uri": "https://localhost:8080/"
        },
        "id": "X1eUI5toxY0-",
        "outputId": "0ad2648e-6e2e-4e8d-8ad9-3779bec23563"
      },
      "outputs": [
        {
          "output_type": "stream",
          "name": "stderr",
          "text": [
            "[nltk_data] Downloading package cess_esp to /root/nltk_data...\n",
            "[nltk_data]   Package cess_esp is already up-to-date!\n",
            "[nltk_data] Downloading package punkt to /root/nltk_data...\n",
            "[nltk_data]   Package punkt is already up-to-date!\n"
          ]
        },
        {
          "output_type": "execute_result",
          "data": {
            "text/plain": [
              "True"
            ]
          },
          "metadata": {},
          "execution_count": 1
        }
      ],
      "source": [
        "import nltk\n",
        "from nltk.corpus import cess_esp\n",
        "from nltk.tokenize import word_tokenize\n",
        "from collections import Counter\n",
        "\n",
        "# Descargar datos y tokenizadores\n",
        "nltk.download('cess_esp')  # Conjunto de datos en español\n",
        "nltk.download('punkt')  # Tokenizador para oraciones\n"
      ]
    },
    {
      "cell_type": "markdown",
      "source": [
        "## 2. Cargar conjunto de datos\n",
        "\n",
        "El corpus `cess_esp` contiene oraciones en español. Vamos a tomar algunas de estas oraciones para construir nuestro modelo de bolsa de palabras."
      ],
      "metadata": {
        "id": "ONvRgN4DyZ6I"
      }
    },
    {
      "cell_type": "code",
      "source": [
        "# Tomar las primeras 10 oraciones del corpus\n",
        "oraciones = cess_esp.sents()[:10]\n",
        "print(\"Oraciones de ejemplo:\")\n",
        "for i, oracion in enumerate(oraciones):\n",
        "    print(f\"{i+1}: {' '.join(oracion)}\")\n"
      ],
      "metadata": {
        "colab": {
          "base_uri": "https://localhost:8080/"
        },
        "id": "30qP_pF5yn3x",
        "outputId": "6d67105f-65dc-4467-fae0-782ca6ae1fa7"
      },
      "execution_count": null,
      "outputs": [
        {
          "output_type": "stream",
          "name": "stdout",
          "text": [
            "Oraciones de ejemplo:\n",
            "1: El grupo estatal Electricité_de_France -Fpa- EDF -Fpt- anunció hoy , jueves , la compra del 51_por_ciento de la empresa mexicana Electricidad_Águila_de_Altamira -Fpa- EAA -Fpt- , creada por el japonés Mitsubishi_Corporation para poner_en_marcha una central de gas de 495 megavatios .\n",
            "2: Una portavoz de EDF explicó a EFE que el proyecto para la construcción de Altamira_2 , al norte de Tampico , prevé la utilización de gas natural como combustible principal en una central de ciclo combinado que debe empezar a funcionar en mayo_del_2002 .\n",
            "3: La electricidad producida pasará a la red eléctrica pública de México en_virtud_de un acuerdo de venta de energía de EAA con la Comisión_Federal_de_Electricidad -Fpa- CFE -Fpt- por una duración de 25 años .\n",
            "4: EDF , que no quiso revelar cuánto *0* pagó por su participación mayoritaria en EAA , intervendrá como asistente en la construcción de Altamira_2 y , posteriormente , *0* se encargará de explotarla como principal accionista .\n",
            "5: EDF y Mitsubishi participaron en 1998 en la licitación de licencias para construir centrales eléctricas en México y *0* se quedaron con dos cada una : Río_Bravo y Saltillo para la compañía francesa y Altamira y Tuxpán para la japonesa .\n",
            "6: EDF tiene previsto invertir 194 millones de euros -Fpa- 186 millones de dólares -Fpt- en la central de Río_Bravo , con una potencia de 495 megavatios , y 134 millones de euros -Fpa- 28 millones de dólares -Fpt- en Saltillo , que como la primera funcionará con gas natural y cuya potencia prevista es de 247 megavatios .\n",
            "7: La alcaldesa de Málaga y cabeza de lista del PP al Congreso por esta provincia , Celia_Villalobos , pidió hoy a los militantes de esta formación que *0* sepan \" administrar la victoria \" , porque \" no vale la revancha , el insulto o el ataque , eso es para ellos \" .\n",
            "8: En una intervención ante militantes populares en el hotel de la capital malagueña elegido como sede de la noche electoral del PP , Villalobos dio las gracias \" a los militantes de muchos años que hoy tienen una emoción especial \" , y *0* se confesó también \" especialmente emocionada \" en sus quintas elecciones generales .\n",
            "9: La diputada electa transmitió \" un abrazo y mi cariño a José_María_Aznar \" , a quien *0* definió como \" el hombre que ha sabido llevar al PP hasta la victoria \" , y *0* dio las gracias a la \" gente que ha sabido ilusionar y convencer a muchos para que *0* apuesten \" por este partido .\n",
            "10: A todas estas personas \" *0* no las vamos a defraudar \" , aseguró Villalobos , que subrayó que Aznar \" seguirá gobernando desde el diálogo , sin prepotencia , con honradez y preocupado por los problemas , y *0* seguiremos siendo los mismos \" .\n"
          ]
        }
      ]
    },
    {
      "cell_type": "markdown",
      "source": [
        "## 3. Preprocesamiento de texto\n",
        "\n",
        "# Para construir la bolsa de palabras, necesitamos tokenizar las oraciones y convertirlas en minúsculas."
      ],
      "metadata": {
        "id": "RWD1nKYhzQmh"
      }
    },
    {
      "cell_type": "code",
      "source": [
        "# Tokenizar y convertir a minúsculas\n",
        "oraciones_tokenizadas = [' '.join(oracion).lower() for oracion in oraciones]\n",
        "print(\"\\nOraciones tokenizadas y en minúsculas:\")\n",
        "for i, oracion in enumerate(oraciones_tokenizadas):\n",
        "    print(f\"{i+1}: {oracion}\")\n"
      ],
      "metadata": {
        "colab": {
          "base_uri": "https://localhost:8080/"
        },
        "id": "mt-fxSQry7Qd",
        "outputId": "1fbd8cab-383b-4f7c-871e-eadd62c92ac9"
      },
      "execution_count": null,
      "outputs": [
        {
          "output_type": "stream",
          "name": "stdout",
          "text": [
            "\n",
            "Oraciones tokenizadas y en minúsculas:\n",
            "1: el grupo estatal electricité_de_france -fpa- edf -fpt- anunció hoy , jueves , la compra del 51_por_ciento de la empresa mexicana electricidad_águila_de_altamira -fpa- eaa -fpt- , creada por el japonés mitsubishi_corporation para poner_en_marcha una central de gas de 495 megavatios .\n",
            "2: una portavoz de edf explicó a efe que el proyecto para la construcción de altamira_2 , al norte de tampico , prevé la utilización de gas natural como combustible principal en una central de ciclo combinado que debe empezar a funcionar en mayo_del_2002 .\n",
            "3: la electricidad producida pasará a la red eléctrica pública de méxico en_virtud_de un acuerdo de venta de energía de eaa con la comisión_federal_de_electricidad -fpa- cfe -fpt- por una duración de 25 años .\n",
            "4: edf , que no quiso revelar cuánto *0* pagó por su participación mayoritaria en eaa , intervendrá como asistente en la construcción de altamira_2 y , posteriormente , *0* se encargará de explotarla como principal accionista .\n",
            "5: edf y mitsubishi participaron en 1998 en la licitación de licencias para construir centrales eléctricas en méxico y *0* se quedaron con dos cada una : río_bravo y saltillo para la compañía francesa y altamira y tuxpán para la japonesa .\n",
            "6: edf tiene previsto invertir 194 millones de euros -fpa- 186 millones de dólares -fpt- en la central de río_bravo , con una potencia de 495 megavatios , y 134 millones de euros -fpa- 28 millones de dólares -fpt- en saltillo , que como la primera funcionará con gas natural y cuya potencia prevista es de 247 megavatios .\n",
            "7: la alcaldesa de málaga y cabeza de lista del pp al congreso por esta provincia , celia_villalobos , pidió hoy a los militantes de esta formación que *0* sepan \" administrar la victoria \" , porque \" no vale la revancha , el insulto o el ataque , eso es para ellos \" .\n",
            "8: en una intervención ante militantes populares en el hotel de la capital malagueña elegido como sede de la noche electoral del pp , villalobos dio las gracias \" a los militantes de muchos años que hoy tienen una emoción especial \" , y *0* se confesó también \" especialmente emocionada \" en sus quintas elecciones generales .\n",
            "9: la diputada electa transmitió \" un abrazo y mi cariño a josé_maría_aznar \" , a quien *0* definió como \" el hombre que ha sabido llevar al pp hasta la victoria \" , y *0* dio las gracias a la \" gente que ha sabido ilusionar y convencer a muchos para que *0* apuesten \" por este partido .\n",
            "10: a todas estas personas \" *0* no las vamos a defraudar \" , aseguró villalobos , que subrayó que aznar \" seguirá gobernando desde el diálogo , sin prepotencia , con honradez y preocupado por los problemas , y *0* seguiremos siendo los mismos \" .\n"
          ]
        }
      ]
    },
    {
      "cell_type": "markdown",
      "source": [
        "## 4. Construir la bolsa de palabras\n",
        "\n",
        "Vamos a crear la bolsa de palabras utilizando un `Counter` para contar la frecuencia de cada palabra en el conjunto de oraciones."
      ],
      "metadata": {
        "id": "ATKUH_f6zntz"
      }
    },
    {
      "cell_type": "code",
      "source": [
        "# Tokenizar palabras y contar frecuencias\n",
        "tokens = word_tokenize(' '.join(oraciones_tokenizadas))\n",
        "frecuencia_palabras = Counter(tokens)\n",
        "\n",
        "print(\"\\nBolsa de palabras (frecuencia de cada palabra):\")\n",
        "for palabra, frecuencia in frecuencia_palabras.items():\n",
        "    print(f\"{palabra}: {frecuencia}\")\n"
      ],
      "metadata": {
        "colab": {
          "base_uri": "https://localhost:8080/"
        },
        "id": "mGofFBUGzkK5",
        "outputId": "1b09b905-314f-4cb8-eb6f-cd0e8fc8dd3d"
      },
      "execution_count": null,
      "outputs": [
        {
          "output_type": "stream",
          "name": "stdout",
          "text": [
            "\n",
            "Bolsa de palabras (frecuencia de cada palabra):\n",
            "el: 8\n",
            "grupo: 1\n",
            "estatal: 1\n",
            "electricité_de_france: 1\n",
            "-fpa-: 5\n",
            "edf: 5\n",
            "-fpt-: 5\n",
            "anunció: 1\n",
            "hoy: 3\n",
            ",: 26\n",
            "jueves: 1\n",
            "la: 21\n",
            "compra: 1\n",
            "del: 3\n",
            "51_por_ciento: 1\n",
            "de: 29\n",
            "empresa: 1\n",
            "mexicana: 1\n",
            "electricidad_águila_de_altamira: 1\n",
            "eaa: 3\n",
            "creada: 1\n",
            "por: 6\n",
            "japonés: 1\n",
            "mitsubishi_corporation: 1\n",
            "para: 7\n",
            "poner_en_marcha: 1\n",
            "una: 8\n",
            "central: 3\n",
            "gas: 3\n",
            "495: 2\n",
            "megavatios: 3\n",
            ".: 10\n",
            "portavoz: 1\n",
            "explicó: 1\n",
            "a: 11\n",
            "efe: 1\n",
            "que: 11\n",
            "proyecto: 1\n",
            "construcción: 2\n",
            "altamira_2: 2\n",
            "al: 3\n",
            "norte: 1\n",
            "tampico: 1\n",
            "prevé: 1\n",
            "utilización: 1\n",
            "natural: 2\n",
            "como: 6\n",
            "combustible: 1\n",
            "principal: 2\n",
            "en: 12\n",
            "ciclo: 1\n",
            "combinado: 1\n",
            "debe: 1\n",
            "empezar: 1\n",
            "funcionar: 1\n",
            "mayo_del_2002: 1\n",
            "electricidad: 1\n",
            "producida: 1\n",
            "pasará: 1\n",
            "red: 1\n",
            "eléctrica: 1\n",
            "pública: 1\n",
            "méxico: 2\n",
            "en_virtud_de: 1\n",
            "un: 2\n",
            "acuerdo: 1\n",
            "venta: 1\n",
            "energía: 1\n",
            "con: 5\n",
            "comisión_federal_de_electricidad: 1\n",
            "cfe: 1\n",
            "duración: 1\n",
            "25: 1\n",
            "años: 2\n",
            "no: 3\n",
            "quiso: 1\n",
            "revelar: 1\n",
            "cuánto: 1\n",
            "*: 20\n",
            "0: 10\n",
            "pagó: 1\n",
            "su: 1\n",
            "participación: 1\n",
            "mayoritaria: 1\n",
            "intervendrá: 1\n",
            "asistente: 1\n",
            "y: 15\n",
            "posteriormente: 1\n",
            "se: 3\n",
            "encargará: 1\n",
            "explotarla: 1\n",
            "accionista: 1\n",
            "mitsubishi: 1\n",
            "participaron: 1\n",
            "1998: 1\n",
            "licitación: 1\n",
            "licencias: 1\n",
            "construir: 1\n",
            "centrales: 1\n",
            "eléctricas: 1\n",
            "quedaron: 1\n",
            "dos: 1\n",
            "cada: 1\n",
            ":: 1\n",
            "río_bravo: 2\n",
            "saltillo: 2\n",
            "compañía: 1\n",
            "francesa: 1\n",
            "altamira: 1\n",
            "tuxpán: 1\n",
            "japonesa: 1\n",
            "tiene: 1\n",
            "previsto: 1\n",
            "invertir: 1\n",
            "194: 1\n",
            "millones: 4\n",
            "euros: 2\n",
            "186: 1\n",
            "dólares: 2\n",
            "potencia: 2\n",
            "134: 1\n",
            "28: 1\n",
            "primera: 1\n",
            "funcionará: 1\n",
            "cuya: 1\n",
            "prevista: 1\n",
            "es: 2\n",
            "247: 1\n",
            "alcaldesa: 1\n",
            "málaga: 1\n",
            "cabeza: 1\n",
            "lista: 1\n",
            "pp: 3\n",
            "congreso: 1\n",
            "esta: 2\n",
            "provincia: 1\n",
            "celia_villalobos: 1\n",
            "pidió: 1\n",
            "los: 4\n",
            "militantes: 3\n",
            "formación: 1\n",
            "sepan: 1\n",
            "``: 18\n",
            "administrar: 1\n",
            "victoria: 2\n",
            "porque: 1\n",
            "vale: 1\n",
            "revancha: 1\n",
            "insulto: 1\n",
            "o: 1\n",
            "ataque: 1\n",
            "eso: 1\n",
            "ellos: 1\n",
            "intervención: 1\n",
            "ante: 1\n",
            "populares: 1\n",
            "hotel: 1\n",
            "capital: 1\n",
            "malagueña: 1\n",
            "elegido: 1\n",
            "sede: 1\n",
            "noche: 1\n",
            "electoral: 1\n",
            "villalobos: 2\n",
            "dio: 2\n",
            "las: 3\n",
            "gracias: 2\n",
            "muchos: 2\n",
            "tienen: 1\n",
            "emoción: 1\n",
            "especial: 1\n",
            "confesó: 1\n",
            "también: 1\n",
            "especialmente: 1\n",
            "emocionada: 1\n",
            "sus: 1\n",
            "quintas: 1\n",
            "elecciones: 1\n",
            "generales: 1\n",
            "diputada: 1\n",
            "electa: 1\n",
            "transmitió: 1\n",
            "abrazo: 1\n",
            "mi: 1\n",
            "cariño: 1\n",
            "josé_maría_aznar: 1\n",
            "quien: 1\n",
            "definió: 1\n",
            "hombre: 1\n",
            "ha: 2\n",
            "sabido: 2\n",
            "llevar: 1\n",
            "hasta: 1\n",
            "gente: 1\n",
            "ilusionar: 1\n",
            "convencer: 1\n",
            "apuesten: 1\n",
            "este: 1\n",
            "partido: 1\n",
            "todas: 1\n",
            "estas: 1\n",
            "personas: 1\n",
            "vamos: 1\n",
            "defraudar: 1\n",
            "aseguró: 1\n",
            "subrayó: 1\n",
            "aznar: 1\n",
            "seguirá: 1\n",
            "gobernando: 1\n",
            "desde: 1\n",
            "diálogo: 1\n",
            "sin: 1\n",
            "prepotencia: 1\n",
            "honradez: 1\n",
            "preocupado: 1\n",
            "problemas: 1\n",
            "seguiremos: 1\n",
            "siendo: 1\n",
            "mismos: 1\n"
          ]
        }
      ]
    },
    {
      "cell_type": "markdown",
      "source": [
        "## 5. Represenación de la bolsa de palabras\n",
        "\n",
        "Vamos a representar la bolsa de palabras (BoW) como una matriz. Cada fila representa una oración (documento) y cada columna representa una palabra del vocabulario"
      ],
      "metadata": {
        "id": "bz6aLYG10iO9"
      }
    },
    {
      "cell_type": "code",
      "source": [
        "# Crear vocabulario\n",
        "vocabulario = sorted(frecuencia_palabras)\n",
        "print(\"\\nVocabulario:\", vocabulario)\n",
        "\n",
        "# Crear la matriz de bolsa de palabras\n",
        "matriz_bolsa_palabras = []\n",
        "for oracion in oraciones_tokenizadas:\n",
        "    tokens_oracion = word_tokenize(oracion)\n",
        "    fila = [tokens_oracion.count(palabra) for palabra in vocabulario]\n",
        "    matriz_bolsa_palabras.append(fila)\n",
        "\n",
        "print(\"\\nMatriz de Bolsa de Palabras:\")\n",
        "for fila in matriz_bolsa_palabras:\n",
        "    print(fila)\n"
      ],
      "metadata": {
        "colab": {
          "base_uri": "https://localhost:8080/"
        },
        "id": "O3BsKeD90hNz",
        "outputId": "180b1a03-f08a-4c50-f878-e73252c753fc"
      },
      "execution_count": null,
      "outputs": [
        {
          "output_type": "stream",
          "name": "stdout",
          "text": [
            "\n",
            "Vocabulario: ['*', ',', '-fpa-', '-fpt-', '.', '0', '134', '186', '194', '1998', '247', '25', '28', '495', '51_por_ciento', ':', '``', 'a', 'abrazo', 'accionista', 'acuerdo', 'administrar', 'al', 'alcaldesa', 'altamira', 'altamira_2', 'ante', 'anunció', 'apuesten', 'aseguró', 'asistente', 'ataque', 'aznar', 'años', 'cabeza', 'cada', 'capital', 'cariño', 'celia_villalobos', 'central', 'centrales', 'cfe', 'ciclo', 'combinado', 'combustible', 'comisión_federal_de_electricidad', 'como', 'compañía', 'compra', 'con', 'confesó', 'congreso', 'construcción', 'construir', 'convencer', 'creada', 'cuya', 'cuánto', 'de', 'debe', 'definió', 'defraudar', 'del', 'desde', 'dio', 'diputada', 'diálogo', 'dos', 'duración', 'dólares', 'eaa', 'edf', 'efe', 'el', 'elecciones', 'electa', 'electoral', 'electricidad', 'electricidad_águila_de_altamira', 'electricité_de_france', 'elegido', 'ellos', 'eléctrica', 'eléctricas', 'emocionada', 'emoción', 'empezar', 'empresa', 'en', 'en_virtud_de', 'encargará', 'energía', 'es', 'eso', 'especial', 'especialmente', 'esta', 'estas', 'estatal', 'este', 'euros', 'explicó', 'explotarla', 'formación', 'francesa', 'funcionar', 'funcionará', 'gas', 'generales', 'gente', 'gobernando', 'gracias', 'grupo', 'ha', 'hasta', 'hombre', 'honradez', 'hotel', 'hoy', 'ilusionar', 'insulto', 'intervención', 'intervendrá', 'invertir', 'japonesa', 'japonés', 'josé_maría_aznar', 'jueves', 'la', 'las', 'licencias', 'licitación', 'lista', 'llevar', 'los', 'malagueña', 'mayo_del_2002', 'mayoritaria', 'megavatios', 'mexicana', 'mi', 'militantes', 'millones', 'mismos', 'mitsubishi', 'mitsubishi_corporation', 'muchos', 'málaga', 'méxico', 'natural', 'no', 'noche', 'norte', 'o', 'pagó', 'para', 'participación', 'participaron', 'partido', 'pasará', 'personas', 'pidió', 'poner_en_marcha', 'populares', 'por', 'porque', 'portavoz', 'posteriormente', 'potencia', 'pp', 'preocupado', 'prepotencia', 'prevista', 'previsto', 'prevé', 'primera', 'principal', 'problemas', 'producida', 'provincia', 'proyecto', 'pública', 'que', 'quedaron', 'quien', 'quintas', 'quiso', 'red', 'revancha', 'revelar', 'río_bravo', 'sabido', 'saltillo', 'se', 'sede', 'seguiremos', 'seguirá', 'sepan', 'siendo', 'sin', 'su', 'subrayó', 'sus', 'también', 'tampico', 'tiene', 'tienen', 'todas', 'transmitió', 'tuxpán', 'un', 'una', 'utilización', 'vale', 'vamos', 'venta', 'victoria', 'villalobos', 'y']\n",
            "\n",
            "Matriz de Bolsa de Palabras:\n",
            "[0, 3, 2, 2, 1, 0, 0, 0, 0, 0, 0, 0, 0, 1, 1, 0, 0, 0, 0, 0, 0, 0, 0, 0, 0, 0, 0, 1, 0, 0, 0, 0, 0, 0, 0, 0, 0, 0, 0, 1, 0, 0, 0, 0, 0, 0, 0, 0, 1, 0, 0, 0, 0, 0, 0, 1, 0, 0, 3, 0, 0, 0, 1, 0, 0, 0, 0, 0, 0, 0, 1, 1, 0, 2, 0, 0, 0, 0, 1, 1, 0, 0, 0, 0, 0, 0, 0, 1, 0, 0, 0, 0, 0, 0, 0, 0, 0, 0, 1, 0, 0, 0, 0, 0, 0, 0, 0, 1, 0, 0, 0, 0, 1, 0, 0, 0, 0, 0, 1, 0, 0, 0, 0, 0, 0, 1, 0, 1, 2, 0, 0, 0, 0, 0, 0, 0, 0, 0, 1, 1, 0, 0, 0, 0, 0, 1, 0, 0, 0, 0, 0, 0, 0, 0, 0, 1, 0, 0, 0, 0, 0, 0, 1, 0, 1, 0, 0, 0, 0, 0, 0, 0, 0, 0, 0, 0, 0, 0, 0, 0, 0, 0, 0, 0, 0, 0, 0, 0, 0, 0, 0, 0, 0, 0, 0, 0, 0, 0, 0, 0, 0, 0, 0, 0, 0, 0, 0, 0, 0, 0, 0, 1, 0, 0, 0, 0, 0, 0, 0]\n",
            "[0, 2, 0, 0, 1, 0, 0, 0, 0, 0, 0, 0, 0, 0, 0, 0, 0, 2, 0, 0, 0, 0, 1, 0, 0, 1, 0, 0, 0, 0, 0, 0, 0, 0, 0, 0, 0, 0, 0, 1, 0, 0, 1, 1, 1, 0, 1, 0, 0, 0, 0, 0, 1, 0, 0, 0, 0, 0, 5, 1, 0, 0, 0, 0, 0, 0, 0, 0, 0, 0, 0, 1, 1, 1, 0, 0, 0, 0, 0, 0, 0, 0, 0, 0, 0, 0, 1, 0, 2, 0, 0, 0, 0, 0, 0, 0, 0, 0, 0, 0, 0, 1, 0, 0, 0, 1, 0, 1, 0, 0, 0, 0, 0, 0, 0, 0, 0, 0, 0, 0, 0, 0, 0, 0, 0, 0, 0, 0, 2, 0, 0, 0, 0, 0, 0, 0, 1, 0, 0, 0, 0, 0, 0, 0, 0, 0, 0, 0, 0, 1, 0, 0, 1, 0, 0, 1, 0, 0, 0, 0, 0, 0, 0, 0, 0, 0, 1, 0, 0, 0, 0, 0, 0, 0, 1, 0, 1, 0, 0, 0, 1, 0, 2, 0, 0, 0, 0, 0, 0, 0, 0, 0, 0, 0, 0, 0, 0, 0, 0, 0, 0, 0, 0, 0, 1, 0, 0, 0, 0, 0, 0, 2, 1, 0, 0, 0, 0, 0, 0]\n",
            "[0, 0, 1, 1, 1, 0, 0, 0, 0, 0, 0, 1, 0, 0, 0, 0, 0, 1, 0, 0, 1, 0, 0, 0, 0, 0, 0, 0, 0, 0, 0, 0, 0, 1, 0, 0, 0, 0, 0, 0, 0, 1, 0, 0, 0, 1, 0, 0, 0, 1, 0, 0, 0, 0, 0, 0, 0, 0, 5, 0, 0, 0, 0, 0, 0, 0, 0, 0, 1, 0, 1, 0, 0, 0, 0, 0, 0, 1, 0, 0, 0, 0, 1, 0, 0, 0, 0, 0, 0, 1, 0, 1, 0, 0, 0, 0, 0, 0, 0, 0, 0, 0, 0, 0, 0, 0, 0, 0, 0, 0, 0, 0, 0, 0, 0, 0, 0, 0, 0, 0, 0, 0, 0, 0, 0, 0, 0, 0, 3, 0, 0, 0, 0, 0, 0, 0, 0, 0, 0, 0, 0, 0, 0, 0, 0, 0, 0, 0, 1, 0, 0, 0, 0, 0, 0, 0, 0, 0, 0, 1, 0, 0, 0, 0, 1, 0, 0, 0, 0, 0, 0, 0, 0, 0, 0, 0, 0, 0, 1, 0, 0, 1, 0, 0, 0, 0, 0, 1, 0, 0, 0, 0, 0, 0, 0, 0, 0, 0, 0, 0, 0, 0, 0, 0, 0, 0, 0, 0, 0, 0, 1, 1, 0, 0, 0, 1, 0, 0, 0]\n",
            "[4, 4, 0, 0, 1, 2, 0, 0, 0, 0, 0, 0, 0, 0, 0, 0, 0, 0, 0, 1, 0, 0, 0, 0, 0, 1, 0, 0, 0, 0, 1, 0, 0, 0, 0, 0, 0, 0, 0, 0, 0, 0, 0, 0, 0, 0, 2, 0, 0, 0, 0, 0, 1, 0, 0, 0, 0, 1, 2, 0, 0, 0, 0, 0, 0, 0, 0, 0, 0, 0, 1, 1, 0, 0, 0, 0, 0, 0, 0, 0, 0, 0, 0, 0, 0, 0, 0, 0, 2, 0, 1, 0, 0, 0, 0, 0, 0, 0, 0, 0, 0, 0, 1, 0, 0, 0, 0, 0, 0, 0, 0, 0, 0, 0, 0, 0, 0, 0, 0, 0, 0, 0, 1, 0, 0, 0, 0, 0, 1, 0, 0, 0, 0, 0, 0, 0, 0, 1, 0, 0, 0, 0, 0, 0, 0, 0, 0, 0, 0, 0, 1, 0, 0, 0, 1, 0, 1, 0, 0, 0, 0, 0, 0, 0, 1, 0, 0, 1, 0, 0, 0, 0, 0, 0, 0, 0, 1, 0, 0, 0, 0, 0, 1, 0, 0, 0, 1, 0, 0, 1, 0, 0, 0, 1, 0, 0, 0, 0, 0, 0, 1, 0, 0, 0, 0, 0, 0, 0, 0, 0, 0, 0, 0, 0, 0, 0, 0, 0, 1]\n",
            "[2, 0, 0, 0, 1, 1, 0, 0, 0, 1, 0, 0, 0, 0, 0, 1, 0, 0, 0, 0, 0, 0, 0, 0, 1, 0, 0, 0, 0, 0, 0, 0, 0, 0, 0, 1, 0, 0, 0, 0, 1, 0, 0, 0, 0, 0, 0, 1, 0, 1, 0, 0, 0, 1, 0, 0, 0, 0, 1, 0, 0, 0, 0, 0, 0, 0, 0, 1, 0, 0, 0, 1, 0, 0, 0, 0, 0, 0, 0, 0, 0, 0, 0, 1, 0, 0, 0, 0, 3, 0, 0, 0, 0, 0, 0, 0, 0, 0, 0, 0, 0, 0, 0, 0, 1, 0, 0, 0, 0, 0, 0, 0, 0, 0, 0, 0, 0, 0, 0, 0, 0, 0, 0, 0, 1, 0, 0, 0, 3, 0, 1, 1, 0, 0, 0, 0, 0, 0, 0, 0, 0, 0, 0, 0, 1, 0, 0, 0, 1, 0, 0, 0, 0, 0, 0, 3, 0, 1, 0, 0, 0, 0, 0, 0, 0, 0, 0, 0, 0, 0, 0, 0, 0, 0, 0, 0, 0, 0, 0, 0, 0, 0, 0, 1, 0, 0, 0, 0, 0, 0, 1, 0, 1, 1, 0, 0, 0, 0, 0, 0, 0, 0, 0, 0, 0, 0, 0, 0, 0, 1, 0, 1, 0, 0, 0, 0, 0, 0, 5]\n",
            "[0, 3, 2, 2, 1, 0, 1, 1, 1, 0, 1, 0, 1, 1, 0, 0, 0, 0, 0, 0, 0, 0, 0, 0, 0, 0, 0, 0, 0, 0, 0, 0, 0, 0, 0, 0, 0, 0, 0, 1, 0, 0, 0, 0, 0, 0, 1, 0, 0, 2, 0, 0, 0, 0, 0, 0, 1, 0, 7, 0, 0, 0, 0, 0, 0, 0, 0, 0, 0, 2, 0, 1, 0, 0, 0, 0, 0, 0, 0, 0, 0, 0, 0, 0, 0, 0, 0, 0, 2, 0, 0, 0, 1, 0, 0, 0, 0, 0, 0, 0, 2, 0, 0, 0, 0, 0, 1, 1, 0, 0, 0, 0, 0, 0, 0, 0, 0, 0, 0, 0, 0, 0, 0, 1, 0, 0, 0, 0, 2, 0, 0, 0, 0, 0, 0, 0, 0, 0, 2, 0, 0, 0, 4, 0, 0, 0, 0, 0, 0, 1, 0, 0, 0, 0, 0, 0, 0, 0, 0, 0, 0, 0, 0, 0, 0, 0, 0, 0, 2, 0, 0, 0, 1, 1, 0, 1, 0, 0, 0, 0, 0, 0, 1, 0, 0, 0, 0, 0, 0, 0, 1, 0, 1, 0, 0, 0, 0, 0, 0, 0, 0, 0, 0, 0, 0, 1, 0, 0, 0, 0, 0, 1, 0, 0, 0, 0, 0, 0, 2]\n",
            "[2, 5, 0, 0, 1, 1, 0, 0, 0, 0, 0, 0, 0, 0, 0, 0, 4, 1, 0, 0, 0, 1, 1, 1, 0, 0, 0, 0, 0, 0, 0, 1, 0, 0, 1, 0, 0, 0, 1, 0, 0, 0, 0, 0, 0, 0, 0, 0, 0, 0, 0, 1, 0, 0, 0, 0, 0, 0, 3, 0, 0, 0, 1, 0, 0, 0, 0, 0, 0, 0, 0, 0, 0, 2, 0, 0, 0, 0, 0, 0, 0, 1, 0, 0, 0, 0, 0, 0, 0, 0, 0, 0, 1, 1, 0, 0, 2, 0, 0, 0, 0, 0, 0, 1, 0, 0, 0, 0, 0, 0, 0, 0, 0, 0, 0, 0, 0, 0, 1, 0, 1, 0, 0, 0, 0, 0, 0, 0, 3, 0, 0, 0, 1, 0, 1, 0, 0, 0, 0, 0, 0, 1, 0, 0, 0, 0, 0, 1, 0, 0, 1, 0, 0, 1, 0, 1, 0, 0, 0, 0, 0, 1, 0, 0, 1, 1, 0, 0, 0, 1, 0, 0, 0, 0, 0, 0, 0, 0, 0, 1, 0, 0, 1, 0, 0, 0, 0, 0, 1, 0, 0, 0, 0, 0, 0, 0, 0, 1, 0, 0, 0, 0, 0, 0, 0, 0, 0, 0, 0, 0, 0, 0, 0, 1, 0, 0, 1, 0, 1]\n",
            "[2, 2, 0, 0, 1, 1, 0, 0, 0, 0, 0, 0, 0, 0, 0, 0, 4, 1, 0, 0, 0, 0, 0, 0, 0, 0, 1, 0, 0, 0, 0, 0, 0, 1, 0, 0, 1, 0, 0, 0, 0, 0, 0, 0, 0, 0, 1, 0, 0, 0, 1, 0, 0, 0, 0, 0, 0, 0, 3, 0, 0, 0, 1, 0, 1, 0, 0, 0, 0, 0, 0, 0, 0, 1, 1, 0, 1, 0, 0, 0, 1, 0, 0, 0, 1, 1, 0, 0, 3, 0, 0, 0, 0, 0, 1, 1, 0, 0, 0, 0, 0, 0, 0, 0, 0, 0, 0, 0, 1, 0, 0, 1, 0, 0, 0, 0, 0, 1, 1, 0, 0, 1, 0, 0, 0, 0, 0, 0, 2, 1, 0, 0, 0, 0, 1, 1, 0, 0, 0, 0, 0, 2, 0, 0, 0, 0, 1, 0, 0, 0, 0, 1, 0, 0, 0, 0, 0, 0, 0, 0, 0, 0, 0, 1, 0, 0, 0, 0, 0, 1, 0, 0, 0, 0, 0, 0, 0, 0, 0, 0, 0, 0, 1, 0, 0, 1, 0, 0, 0, 0, 0, 0, 0, 1, 1, 0, 0, 0, 0, 0, 0, 0, 1, 1, 0, 0, 1, 0, 0, 0, 0, 2, 0, 0, 0, 0, 0, 1, 1]\n",
            "[6, 2, 0, 0, 1, 3, 0, 0, 0, 0, 0, 0, 0, 0, 0, 0, 6, 4, 1, 0, 0, 0, 1, 0, 0, 0, 0, 0, 1, 0, 0, 0, 0, 0, 0, 0, 0, 1, 0, 0, 0, 0, 0, 0, 0, 0, 1, 0, 0, 0, 0, 0, 0, 0, 1, 0, 0, 0, 0, 0, 1, 0, 0, 0, 1, 1, 0, 0, 0, 0, 0, 0, 0, 1, 0, 1, 0, 0, 0, 0, 0, 0, 0, 0, 0, 0, 0, 0, 0, 0, 0, 0, 0, 0, 0, 0, 0, 0, 0, 1, 0, 0, 0, 0, 0, 0, 0, 0, 0, 1, 0, 1, 0, 2, 1, 1, 0, 0, 0, 1, 0, 0, 0, 0, 0, 0, 1, 0, 3, 1, 0, 0, 0, 1, 0, 0, 0, 0, 0, 0, 1, 0, 0, 0, 0, 0, 1, 0, 0, 0, 0, 0, 0, 0, 0, 1, 0, 0, 1, 0, 0, 0, 0, 0, 1, 0, 0, 0, 0, 1, 0, 0, 0, 0, 0, 0, 0, 0, 0, 0, 0, 0, 3, 0, 1, 0, 0, 0, 0, 0, 0, 2, 0, 0, 0, 0, 0, 0, 0, 0, 0, 0, 0, 0, 0, 0, 0, 0, 1, 0, 1, 0, 0, 0, 0, 0, 1, 0, 3]\n",
            "[4, 5, 0, 0, 1, 2, 0, 0, 0, 0, 0, 0, 0, 0, 0, 0, 4, 2, 0, 0, 0, 0, 0, 0, 0, 0, 0, 0, 0, 1, 0, 0, 1, 0, 0, 0, 0, 0, 0, 0, 0, 0, 0, 0, 0, 0, 0, 0, 0, 1, 0, 0, 0, 0, 0, 0, 0, 0, 0, 0, 0, 1, 0, 1, 0, 0, 1, 0, 0, 0, 0, 0, 0, 1, 0, 0, 0, 0, 0, 0, 0, 0, 0, 0, 0, 0, 0, 0, 0, 0, 0, 0, 0, 0, 0, 0, 0, 1, 0, 0, 0, 0, 0, 0, 0, 0, 0, 0, 0, 0, 1, 0, 0, 0, 0, 0, 1, 0, 0, 0, 0, 0, 0, 0, 0, 0, 0, 0, 0, 1, 0, 0, 0, 0, 2, 0, 0, 0, 0, 0, 0, 0, 0, 1, 0, 0, 0, 0, 0, 0, 1, 0, 0, 0, 0, 0, 0, 0, 0, 0, 1, 0, 0, 0, 1, 0, 0, 0, 0, 0, 1, 1, 0, 0, 0, 0, 0, 1, 0, 0, 0, 0, 2, 0, 0, 0, 0, 0, 0, 0, 0, 0, 0, 0, 0, 1, 1, 0, 1, 1, 0, 1, 0, 0, 0, 0, 0, 1, 0, 0, 0, 0, 0, 0, 1, 0, 0, 1, 2]\n"
          ]
        }
      ]
    },
    {
      "cell_type": "code",
      "source": [
        "print(len(voca))"
      ],
      "metadata": {
        "id": "KmdtX9aT1BXJ"
      },
      "execution_count": null,
      "outputs": []
    },
    {
      "cell_type": "markdown",
      "source": [
        "# Ejemplo de modelo TF-IDF"
      ],
      "metadata": {
        "id": "brVNGA6jq3ze"
      }
    },
    {
      "cell_type": "markdown",
      "source": [
        "## 1. Importar librerías y descargar datos"
      ],
      "metadata": {
        "id": "WwgzY8i8vYEh"
      }
    },
    {
      "cell_type": "code",
      "source": [
        "import nltk\n",
        "from nltk.corpus import cess_esp\n",
        "from nltk.tokenize import word_tokenize\n",
        "from collections import Counter\n",
        "from math import log # No se necesitaba para BoW\n",
        "\n",
        "# Descargar datos y tokenizadores\n",
        "nltk.download('cess_esp')  # Conjunto de datos en español\n",
        "nltk.download('punkt')  # Tokenizador para oraciones\n"
      ],
      "metadata": {
        "colab": {
          "base_uri": "https://localhost:8080/"
        },
        "id": "E3Vla-eyrW-3",
        "outputId": "814358d8-d298-46dd-8bba-14d671d84038"
      },
      "execution_count": null,
      "outputs": [
        {
          "output_type": "stream",
          "name": "stderr",
          "text": [
            "[nltk_data] Downloading package cess_esp to /root/nltk_data...\n",
            "[nltk_data]   Package cess_esp is already up-to-date!\n",
            "[nltk_data] Downloading package punkt to /root/nltk_data...\n",
            "[nltk_data]   Package punkt is already up-to-date!\n"
          ]
        },
        {
          "output_type": "execute_result",
          "data": {
            "text/plain": [
              "True"
            ]
          },
          "metadata": {},
          "execution_count": 6
        }
      ]
    },
    {
      "cell_type": "markdown",
      "source": [
        "## 2. Cargar conjunto de datos"
      ],
      "metadata": {
        "id": "2ryozwuyvc9m"
      }
    },
    {
      "cell_type": "code",
      "source": [
        "# Tomar las primeras 10 oraciones del corpus\n",
        "oraciones = cess_esp.sents()[:10]\n",
        "print(\"Oraciones de ejemplo:\")\n",
        "for i, oracion in enumerate(oraciones):\n",
        "    print(f\"{i+1}: {' '.join(oracion)}\")\n"
      ],
      "metadata": {
        "colab": {
          "base_uri": "https://localhost:8080/"
        },
        "id": "hvXuBUsBrYey",
        "outputId": "b24f068c-c0b0-49ad-d9e3-259b4431c70e"
      },
      "execution_count": null,
      "outputs": [
        {
          "output_type": "stream",
          "name": "stdout",
          "text": [
            "Oraciones de ejemplo:\n",
            "1: El grupo estatal Electricité_de_France -Fpa- EDF -Fpt- anunció hoy , jueves , la compra del 51_por_ciento de la empresa mexicana Electricidad_Águila_de_Altamira -Fpa- EAA -Fpt- , creada por el japonés Mitsubishi_Corporation para poner_en_marcha una central de gas de 495 megavatios .\n",
            "2: Una portavoz de EDF explicó a EFE que el proyecto para la construcción de Altamira_2 , al norte de Tampico , prevé la utilización de gas natural como combustible principal en una central de ciclo combinado que debe empezar a funcionar en mayo_del_2002 .\n",
            "3: La electricidad producida pasará a la red eléctrica pública de México en_virtud_de un acuerdo de venta de energía de EAA con la Comisión_Federal_de_Electricidad -Fpa- CFE -Fpt- por una duración de 25 años .\n",
            "4: EDF , que no quiso revelar cuánto *0* pagó por su participación mayoritaria en EAA , intervendrá como asistente en la construcción de Altamira_2 y , posteriormente , *0* se encargará de explotarla como principal accionista .\n",
            "5: EDF y Mitsubishi participaron en 1998 en la licitación de licencias para construir centrales eléctricas en México y *0* se quedaron con dos cada una : Río_Bravo y Saltillo para la compañía francesa y Altamira y Tuxpán para la japonesa .\n",
            "6: EDF tiene previsto invertir 194 millones de euros -Fpa- 186 millones de dólares -Fpt- en la central de Río_Bravo , con una potencia de 495 megavatios , y 134 millones de euros -Fpa- 28 millones de dólares -Fpt- en Saltillo , que como la primera funcionará con gas natural y cuya potencia prevista es de 247 megavatios .\n",
            "7: La alcaldesa de Málaga y cabeza de lista del PP al Congreso por esta provincia , Celia_Villalobos , pidió hoy a los militantes de esta formación que *0* sepan \" administrar la victoria \" , porque \" no vale la revancha , el insulto o el ataque , eso es para ellos \" .\n",
            "8: En una intervención ante militantes populares en el hotel de la capital malagueña elegido como sede de la noche electoral del PP , Villalobos dio las gracias \" a los militantes de muchos años que hoy tienen una emoción especial \" , y *0* se confesó también \" especialmente emocionada \" en sus quintas elecciones generales .\n",
            "9: La diputada electa transmitió \" un abrazo y mi cariño a José_María_Aznar \" , a quien *0* definió como \" el hombre que ha sabido llevar al PP hasta la victoria \" , y *0* dio las gracias a la \" gente que ha sabido ilusionar y convencer a muchos para que *0* apuesten \" por este partido .\n",
            "10: A todas estas personas \" *0* no las vamos a defraudar \" , aseguró Villalobos , que subrayó que Aznar \" seguirá gobernando desde el diálogo , sin prepotencia , con honradez y preocupado por los problemas , y *0* seguiremos siendo los mismos \" .\n"
          ]
        }
      ]
    },
    {
      "cell_type": "markdown",
      "source": [
        "## 3. Preprocesamiento de texto"
      ],
      "metadata": {
        "id": "079kdqpfvlhi"
      }
    },
    {
      "cell_type": "code",
      "source": [
        "# Tokenizar y convertir a minúsculas\n",
        "oraciones_tokenizadas = [' '.join(oracion).lower() for oracion in oraciones]\n",
        "print(\"\\nOraciones tokenizadas y en minúsculas:\")\n",
        "for i, oracion in enumerate(oraciones_tokenizadas):\n",
        "    print(f\"{i+1}: {oracion}\")\n"
      ],
      "metadata": {
        "colab": {
          "base_uri": "https://localhost:8080/"
        },
        "id": "3_ZHXZo1ricK",
        "outputId": "52a00638-6593-4b0c-9379-89f4bc112060"
      },
      "execution_count": null,
      "outputs": [
        {
          "output_type": "stream",
          "name": "stdout",
          "text": [
            "\n",
            "Oraciones tokenizadas y en minúsculas:\n",
            "1: el grupo estatal electricité_de_france -fpa- edf -fpt- anunció hoy , jueves , la compra del 51_por_ciento de la empresa mexicana electricidad_águila_de_altamira -fpa- eaa -fpt- , creada por el japonés mitsubishi_corporation para poner_en_marcha una central de gas de 495 megavatios .\n",
            "2: una portavoz de edf explicó a efe que el proyecto para la construcción de altamira_2 , al norte de tampico , prevé la utilización de gas natural como combustible principal en una central de ciclo combinado que debe empezar a funcionar en mayo_del_2002 .\n",
            "3: la electricidad producida pasará a la red eléctrica pública de méxico en_virtud_de un acuerdo de venta de energía de eaa con la comisión_federal_de_electricidad -fpa- cfe -fpt- por una duración de 25 años .\n",
            "4: edf , que no quiso revelar cuánto *0* pagó por su participación mayoritaria en eaa , intervendrá como asistente en la construcción de altamira_2 y , posteriormente , *0* se encargará de explotarla como principal accionista .\n",
            "5: edf y mitsubishi participaron en 1998 en la licitación de licencias para construir centrales eléctricas en méxico y *0* se quedaron con dos cada una : río_bravo y saltillo para la compañía francesa y altamira y tuxpán para la japonesa .\n",
            "6: edf tiene previsto invertir 194 millones de euros -fpa- 186 millones de dólares -fpt- en la central de río_bravo , con una potencia de 495 megavatios , y 134 millones de euros -fpa- 28 millones de dólares -fpt- en saltillo , que como la primera funcionará con gas natural y cuya potencia prevista es de 247 megavatios .\n",
            "7: la alcaldesa de málaga y cabeza de lista del pp al congreso por esta provincia , celia_villalobos , pidió hoy a los militantes de esta formación que *0* sepan \" administrar la victoria \" , porque \" no vale la revancha , el insulto o el ataque , eso es para ellos \" .\n",
            "8: en una intervención ante militantes populares en el hotel de la capital malagueña elegido como sede de la noche electoral del pp , villalobos dio las gracias \" a los militantes de muchos años que hoy tienen una emoción especial \" , y *0* se confesó también \" especialmente emocionada \" en sus quintas elecciones generales .\n",
            "9: la diputada electa transmitió \" un abrazo y mi cariño a josé_maría_aznar \" , a quien *0* definió como \" el hombre que ha sabido llevar al pp hasta la victoria \" , y *0* dio las gracias a la \" gente que ha sabido ilusionar y convencer a muchos para que *0* apuesten \" por este partido .\n",
            "10: a todas estas personas \" *0* no las vamos a defraudar \" , aseguró villalobos , que subrayó que aznar \" seguirá gobernando desde el diálogo , sin prepotencia , con honradez y preocupado por los problemas , y *0* seguiremos siendo los mismos \" .\n"
          ]
        }
      ]
    },
    {
      "cell_type": "markdown",
      "source": [
        "## 4. Calcular la frecuencia de términos (TF)\n",
        "\n",
        "Vamos a calcular la frecuencia de términos para cada palabra en cada documento. Para este ejercicio definiremos \"frecuencia de término\" simplemente como el conteo de la palabra específica dividida por el total de palabras del documento.\n",
        "\n",
        "$$\n",
        "TF(w,d) = \\frac{\\text{Cantidad de veces que aparece } w \\text{ en }d}{\\text{Cantidad total de tokens que contiene }d}\n",
        "$$"
      ],
      "metadata": {
        "id": "jsPCvyA8vpMK"
      }
    },
    {
      "cell_type": "code",
      "source": [
        "# Tokenizar palabras en cada documento\n",
        "documentos_tokenizados = [word_tokenize(oracion) for oracion in oraciones_tokenizadas]\n",
        "\n",
        "# Calcular TF\n",
        "tf = []\n",
        "for tokens in documentos_tokenizados:\n",
        "    frecuencia_palabras = Counter(tokens)\n",
        "    total_palabras = len(tokens)\n",
        "    tf.append({palabra: frecuencia / total_palabras for palabra, frecuencia in frecuencia_palabras.items()})\n",
        "\n",
        "print(\"\\nFrecuencia de Términos (TF) por documento:\")\n",
        "for i, doc_tf in enumerate(tf):\n",
        "    print(f\"Documento {i+1}: {doc_tf}\")\n"
      ],
      "metadata": {
        "colab": {
          "base_uri": "https://localhost:8080/"
        },
        "id": "7c9nQa9irjy-",
        "outputId": "1ee6893f-f3a6-4665-935a-a0fb0706fdb4"
      },
      "execution_count": null,
      "outputs": [
        {
          "output_type": "stream",
          "name": "stdout",
          "text": [
            "\n",
            "Frecuencia de Términos (TF) por documento:\n",
            "Documento 1: {'el': 0.05, 'grupo': 0.025, 'estatal': 0.025, 'electricité_de_france': 0.025, '-fpa-': 0.05, 'edf': 0.025, '-fpt-': 0.05, 'anunció': 0.025, 'hoy': 0.025, ',': 0.075, 'jueves': 0.025, 'la': 0.05, 'compra': 0.025, 'del': 0.025, '51_por_ciento': 0.025, 'de': 0.075, 'empresa': 0.025, 'mexicana': 0.025, 'electricidad_águila_de_altamira': 0.025, 'eaa': 0.025, 'creada': 0.025, 'por': 0.025, 'japonés': 0.025, 'mitsubishi_corporation': 0.025, 'para': 0.025, 'poner_en_marcha': 0.025, 'una': 0.025, 'central': 0.025, 'gas': 0.025, '495': 0.025, 'megavatios': 0.025, '.': 0.025}\n",
            "Documento 2: {'una': 0.045454545454545456, 'portavoz': 0.022727272727272728, 'de': 0.11363636363636363, 'edf': 0.022727272727272728, 'explicó': 0.022727272727272728, 'a': 0.045454545454545456, 'efe': 0.022727272727272728, 'que': 0.045454545454545456, 'el': 0.022727272727272728, 'proyecto': 0.022727272727272728, 'para': 0.022727272727272728, 'la': 0.045454545454545456, 'construcción': 0.022727272727272728, 'altamira_2': 0.022727272727272728, ',': 0.045454545454545456, 'al': 0.022727272727272728, 'norte': 0.022727272727272728, 'tampico': 0.022727272727272728, 'prevé': 0.022727272727272728, 'utilización': 0.022727272727272728, 'gas': 0.022727272727272728, 'natural': 0.022727272727272728, 'como': 0.022727272727272728, 'combustible': 0.022727272727272728, 'principal': 0.022727272727272728, 'en': 0.045454545454545456, 'central': 0.022727272727272728, 'ciclo': 0.022727272727272728, 'combinado': 0.022727272727272728, 'debe': 0.022727272727272728, 'empezar': 0.022727272727272728, 'funcionar': 0.022727272727272728, 'mayo_del_2002': 0.022727272727272728, '.': 0.022727272727272728}\n",
            "Documento 3: {'la': 0.09090909090909091, 'electricidad': 0.030303030303030304, 'producida': 0.030303030303030304, 'pasará': 0.030303030303030304, 'a': 0.030303030303030304, 'red': 0.030303030303030304, 'eléctrica': 0.030303030303030304, 'pública': 0.030303030303030304, 'de': 0.15151515151515152, 'méxico': 0.030303030303030304, 'en_virtud_de': 0.030303030303030304, 'un': 0.030303030303030304, 'acuerdo': 0.030303030303030304, 'venta': 0.030303030303030304, 'energía': 0.030303030303030304, 'eaa': 0.030303030303030304, 'con': 0.030303030303030304, 'comisión_federal_de_electricidad': 0.030303030303030304, '-fpa-': 0.030303030303030304, 'cfe': 0.030303030303030304, '-fpt-': 0.030303030303030304, 'por': 0.030303030303030304, 'una': 0.030303030303030304, 'duración': 0.030303030303030304, '25': 0.030303030303030304, 'años': 0.030303030303030304, '.': 0.030303030303030304}\n",
            "Documento 4: {'edf': 0.024390243902439025, ',': 0.0975609756097561, 'que': 0.024390243902439025, 'no': 0.024390243902439025, 'quiso': 0.024390243902439025, 'revelar': 0.024390243902439025, 'cuánto': 0.024390243902439025, '*': 0.0975609756097561, '0': 0.04878048780487805, 'pagó': 0.024390243902439025, 'por': 0.024390243902439025, 'su': 0.024390243902439025, 'participación': 0.024390243902439025, 'mayoritaria': 0.024390243902439025, 'en': 0.04878048780487805, 'eaa': 0.024390243902439025, 'intervendrá': 0.024390243902439025, 'como': 0.04878048780487805, 'asistente': 0.024390243902439025, 'la': 0.024390243902439025, 'construcción': 0.024390243902439025, 'de': 0.04878048780487805, 'altamira_2': 0.024390243902439025, 'y': 0.024390243902439025, 'posteriormente': 0.024390243902439025, 'se': 0.024390243902439025, 'encargará': 0.024390243902439025, 'explotarla': 0.024390243902439025, 'principal': 0.024390243902439025, 'accionista': 0.024390243902439025, '.': 0.024390243902439025}\n",
            "Documento 5: {'edf': 0.023255813953488372, 'y': 0.11627906976744186, 'mitsubishi': 0.023255813953488372, 'participaron': 0.023255813953488372, 'en': 0.06976744186046512, '1998': 0.023255813953488372, 'la': 0.06976744186046512, 'licitación': 0.023255813953488372, 'de': 0.023255813953488372, 'licencias': 0.023255813953488372, 'para': 0.06976744186046512, 'construir': 0.023255813953488372, 'centrales': 0.023255813953488372, 'eléctricas': 0.023255813953488372, 'méxico': 0.023255813953488372, '*': 0.046511627906976744, '0': 0.023255813953488372, 'se': 0.023255813953488372, 'quedaron': 0.023255813953488372, 'con': 0.023255813953488372, 'dos': 0.023255813953488372, 'cada': 0.023255813953488372, 'una': 0.023255813953488372, ':': 0.023255813953488372, 'río_bravo': 0.023255813953488372, 'saltillo': 0.023255813953488372, 'compañía': 0.023255813953488372, 'francesa': 0.023255813953488372, 'altamira': 0.023255813953488372, 'tuxpán': 0.023255813953488372, 'japonesa': 0.023255813953488372, '.': 0.023255813953488372}\n",
            "Documento 6: {'edf': 0.017241379310344827, 'tiene': 0.017241379310344827, 'previsto': 0.017241379310344827, 'invertir': 0.017241379310344827, '194': 0.017241379310344827, 'millones': 0.06896551724137931, 'de': 0.1206896551724138, 'euros': 0.034482758620689655, '-fpa-': 0.034482758620689655, '186': 0.017241379310344827, 'dólares': 0.034482758620689655, '-fpt-': 0.034482758620689655, 'en': 0.034482758620689655, 'la': 0.034482758620689655, 'central': 0.017241379310344827, 'río_bravo': 0.017241379310344827, ',': 0.05172413793103448, 'con': 0.034482758620689655, 'una': 0.017241379310344827, 'potencia': 0.034482758620689655, '495': 0.017241379310344827, 'megavatios': 0.034482758620689655, 'y': 0.034482758620689655, '134': 0.017241379310344827, '28': 0.017241379310344827, 'saltillo': 0.017241379310344827, 'que': 0.017241379310344827, 'como': 0.017241379310344827, 'primera': 0.017241379310344827, 'funcionará': 0.017241379310344827, 'gas': 0.017241379310344827, 'natural': 0.017241379310344827, 'cuya': 0.017241379310344827, 'prevista': 0.017241379310344827, 'es': 0.017241379310344827, '247': 0.017241379310344827, '.': 0.017241379310344827}\n",
            "Documento 7: {'la': 0.05357142857142857, 'alcaldesa': 0.017857142857142856, 'de': 0.05357142857142857, 'málaga': 0.017857142857142856, 'y': 0.017857142857142856, 'cabeza': 0.017857142857142856, 'lista': 0.017857142857142856, 'del': 0.017857142857142856, 'pp': 0.017857142857142856, 'al': 0.017857142857142856, 'congreso': 0.017857142857142856, 'por': 0.017857142857142856, 'esta': 0.03571428571428571, 'provincia': 0.017857142857142856, ',': 0.08928571428571429, 'celia_villalobos': 0.017857142857142856, 'pidió': 0.017857142857142856, 'hoy': 0.017857142857142856, 'a': 0.017857142857142856, 'los': 0.017857142857142856, 'militantes': 0.017857142857142856, 'formación': 0.017857142857142856, 'que': 0.017857142857142856, '*': 0.03571428571428571, '0': 0.017857142857142856, 'sepan': 0.017857142857142856, '``': 0.07142857142857142, 'administrar': 0.017857142857142856, 'victoria': 0.017857142857142856, 'porque': 0.017857142857142856, 'no': 0.017857142857142856, 'vale': 0.017857142857142856, 'revancha': 0.017857142857142856, 'el': 0.03571428571428571, 'insulto': 0.017857142857142856, 'o': 0.017857142857142856, 'ataque': 0.017857142857142856, 'eso': 0.017857142857142856, 'es': 0.017857142857142856, 'para': 0.017857142857142856, 'ellos': 0.017857142857142856, '.': 0.017857142857142856}\n",
            "Documento 8: {'en': 0.05084745762711865, 'una': 0.03389830508474576, 'intervención': 0.01694915254237288, 'ante': 0.01694915254237288, 'militantes': 0.03389830508474576, 'populares': 0.01694915254237288, 'el': 0.01694915254237288, 'hotel': 0.01694915254237288, 'de': 0.05084745762711865, 'la': 0.03389830508474576, 'capital': 0.01694915254237288, 'malagueña': 0.01694915254237288, 'elegido': 0.01694915254237288, 'como': 0.01694915254237288, 'sede': 0.01694915254237288, 'noche': 0.01694915254237288, 'electoral': 0.01694915254237288, 'del': 0.01694915254237288, 'pp': 0.01694915254237288, ',': 0.03389830508474576, 'villalobos': 0.01694915254237288, 'dio': 0.01694915254237288, 'las': 0.01694915254237288, 'gracias': 0.01694915254237288, '``': 0.06779661016949153, 'a': 0.01694915254237288, 'los': 0.01694915254237288, 'muchos': 0.01694915254237288, 'años': 0.01694915254237288, 'que': 0.01694915254237288, 'hoy': 0.01694915254237288, 'tienen': 0.01694915254237288, 'emoción': 0.01694915254237288, 'especial': 0.01694915254237288, 'y': 0.01694915254237288, '*': 0.03389830508474576, '0': 0.01694915254237288, 'se': 0.01694915254237288, 'confesó': 0.01694915254237288, 'también': 0.01694915254237288, 'especialmente': 0.01694915254237288, 'emocionada': 0.01694915254237288, 'sus': 0.01694915254237288, 'quintas': 0.01694915254237288, 'elecciones': 0.01694915254237288, 'generales': 0.01694915254237288, '.': 0.01694915254237288}\n",
            "Documento 9: {'la': 0.046153846153846156, 'diputada': 0.015384615384615385, 'electa': 0.015384615384615385, 'transmitió': 0.015384615384615385, '``': 0.09230769230769231, 'un': 0.015384615384615385, 'abrazo': 0.015384615384615385, 'y': 0.046153846153846156, 'mi': 0.015384615384615385, 'cariño': 0.015384615384615385, 'a': 0.06153846153846154, 'josé_maría_aznar': 0.015384615384615385, ',': 0.03076923076923077, 'quien': 0.015384615384615385, '*': 0.09230769230769231, '0': 0.046153846153846156, 'definió': 0.015384615384615385, 'como': 0.015384615384615385, 'el': 0.015384615384615385, 'hombre': 0.015384615384615385, 'que': 0.046153846153846156, 'ha': 0.03076923076923077, 'sabido': 0.03076923076923077, 'llevar': 0.015384615384615385, 'al': 0.015384615384615385, 'pp': 0.015384615384615385, 'hasta': 0.015384615384615385, 'victoria': 0.015384615384615385, 'dio': 0.015384615384615385, 'las': 0.015384615384615385, 'gracias': 0.015384615384615385, 'gente': 0.015384615384615385, 'ilusionar': 0.015384615384615385, 'convencer': 0.015384615384615385, 'muchos': 0.015384615384615385, 'para': 0.015384615384615385, 'apuesten': 0.015384615384615385, 'por': 0.015384615384615385, 'este': 0.015384615384615385, 'partido': 0.015384615384615385, '.': 0.015384615384615385}\n",
            "Documento 10: {'a': 0.04, 'todas': 0.02, 'estas': 0.02, 'personas': 0.02, '``': 0.08, '*': 0.08, '0': 0.04, 'no': 0.02, 'las': 0.02, 'vamos': 0.02, 'defraudar': 0.02, ',': 0.1, 'aseguró': 0.02, 'villalobos': 0.02, 'que': 0.04, 'subrayó': 0.02, 'aznar': 0.02, 'seguirá': 0.02, 'gobernando': 0.02, 'desde': 0.02, 'el': 0.02, 'diálogo': 0.02, 'sin': 0.02, 'prepotencia': 0.02, 'con': 0.02, 'honradez': 0.02, 'y': 0.04, 'preocupado': 0.02, 'por': 0.02, 'los': 0.04, 'problemas': 0.02, 'seguiremos': 0.02, 'siendo': 0.02, 'mismos': 0.02, '.': 0.02}\n"
          ]
        }
      ]
    },
    {
      "cell_type": "markdown",
      "source": [
        "## 5. Calcular la frecuencia inversa de documentos (IDF)\n",
        "\n",
        "Vamos a calcular el IDF para cada palabra en el conjunto de documentos.\n",
        "\n",
        "Recordemos que el IDF se calcula para un término en todo el corpus:\n",
        "\n",
        "$$\n",
        "IDF(w,D)=log(\\frac{\\text{Cantidad de documentos que contienen el token }w}{\\text{Cantidad total de documentos en el conjunto }D}​)\n",
        "$$"
      ],
      "metadata": {
        "id": "ZOwMoPGXv74s"
      }
    },
    {
      "cell_type": "code",
      "source": [
        "# Crear un conjunto de todas las palabras únicas en el corpus (vocabulario)\n",
        "palabras_unicas = set(word for tokens in documentos_tokenizados for word in tokens)\n",
        "\n",
        "# Calcular IDF\n",
        "idf = {}\n",
        "total_documentos = len(oraciones_tokenizadas)\n",
        "for palabra in palabras_unicas:\n",
        "    # Contar cuántos documentos contienen la palabra\n",
        "    documentos_contienen_palabra = sum(1 for tokens in documentos_tokenizados if palabra in tokens)\n",
        "    idf[palabra] = log(total_documentos / (1 + documentos_contienen_palabra))  # Se suma 1 para evitar división por cero\n",
        "\n",
        "print(\"\\nFrecuencia Inversa de Documentos (IDF):\")\n",
        "print(idf)\n"
      ],
      "metadata": {
        "colab": {
          "base_uri": "https://localhost:8080/"
        },
        "id": "QMzSp-_Iv1aN",
        "outputId": "387e88fe-a4dc-4575-de24-51145389a001"
      },
      "execution_count": null,
      "outputs": [
        {
          "output_type": "stream",
          "name": "stdout",
          "text": [
            "\n",
            "Frecuencia Inversa de Documentos (IDF):\n",
            "{'electricidad': 1.6094379124341003, 'revelar': 1.6094379124341003, 'cfe': 1.6094379124341003, 'ciclo': 1.6094379124341003, 'honradez': 1.6094379124341003, 'tampico': 1.6094379124341003, 'explicó': 1.6094379124341003, 'dio': 1.2039728043259361, 'elecciones': 1.6094379124341003, '25': 1.6094379124341003, 'licencias': 1.6094379124341003, 'y': 0.22314355131420976, '194': 1.6094379124341003, 'sepan': 1.6094379124341003, 'insulto': 1.6094379124341003, 'villalobos': 1.2039728043259361, 'generales': 1.6094379124341003, 'victoria': 1.2039728043259361, 'invertir': 1.6094379124341003, 'eaa': 0.9162907318741551, 'sabido': 1.6094379124341003, 'josé_maría_aznar': 1.6094379124341003, 'ellos': 1.6094379124341003, 'mitsubishi_corporation': 1.6094379124341003, 'empezar': 1.6094379124341003, 'por': 0.3566749439387324, 'mayoritaria': 1.6094379124341003, 'en': 0.5108256237659907, 'alcaldesa': 1.6094379124341003, 'capital': 1.6094379124341003, 'red': 1.6094379124341003, 'una': 0.3566749439387324, '134': 1.6094379124341003, 'esta': 1.6094379124341003, 'altamira': 1.6094379124341003, 'defraudar': 1.6094379124341003, '495': 1.2039728043259361, 'sin': 1.6094379124341003, 'seguirá': 1.6094379124341003, 'primera': 1.6094379124341003, 'intervendrá': 1.6094379124341003, 'muchos': 1.2039728043259361, 'convencer': 1.6094379124341003, 'mitsubishi': 1.6094379124341003, 'aseguró': 1.6094379124341003, 'natural': 1.2039728043259361, '.': -0.0953101798043249, 'millones': 1.6094379124341003, 'portavoz': 1.6094379124341003, 'eléctrica': 1.6094379124341003, 'combinado': 1.6094379124341003, '0': 0.3566749439387324, 'sede': 1.6094379124341003, 'preocupado': 1.6094379124341003, 'la': 0.0, 'posteriormente': 1.6094379124341003, 'norte': 1.6094379124341003, 'jueves': 1.6094379124341003, 'asistente': 1.6094379124341003, 'méxico': 1.2039728043259361, 'subrayó': 1.6094379124341003, 'potencia': 1.6094379124341003, 'ante': 1.6094379124341003, 'confesó': 1.6094379124341003, 'pública': 1.6094379124341003, '1998': 1.6094379124341003, 'elegido': 1.6094379124341003, 'altamira_2': 1.2039728043259361, 'compañía': 1.6094379124341003, 'especialmente': 1.6094379124341003, 'es': 1.2039728043259361, 'prepotencia': 1.6094379124341003, 'duración': 1.6094379124341003, 'celia_villalobos': 1.6094379124341003, 'combustible': 1.6094379124341003, 'hasta': 1.6094379124341003, 'tienen': 1.6094379124341003, 'licitación': 1.6094379124341003, 'electa': 1.6094379124341003, 'dólares': 1.6094379124341003, 'partido': 1.6094379124341003, 'río_bravo': 1.2039728043259361, 'desde': 1.6094379124341003, 'llevar': 1.6094379124341003, '-fpt-': 0.9162907318741551, 'hoy': 0.9162907318741551, 'gas': 0.9162907318741551, 'construcción': 1.2039728043259361, 'explotarla': 1.6094379124341003, 'cada': 1.6094379124341003, 'revancha': 1.6094379124341003, 'diputada': 1.6094379124341003, 'mexicana': 1.6094379124341003, 'estatal': 1.6094379124341003, 'abrazo': 1.6094379124341003, 'formación': 1.6094379124341003, 'gracias': 1.2039728043259361, 'como': 0.5108256237659907, 'cuya': 1.6094379124341003, 'especial': 1.6094379124341003, 'centrales': 1.6094379124341003, '28': 1.6094379124341003, 'vamos': 1.6094379124341003, 'al': 0.9162907318741551, 'con': 0.6931471805599453, 'accionista': 1.6094379124341003, 'estas': 1.6094379124341003, 'administrar': 1.6094379124341003, 'eso': 1.6094379124341003, 'tuxpán': 1.6094379124341003, 'gobernando': 1.6094379124341003, 'debe': 1.6094379124341003, 'cariño': 1.6094379124341003, 'pp': 0.9162907318741551, 'este': 1.6094379124341003, 'ha': 1.6094379124341003, 'utilización': 1.6094379124341003, 'participación': 1.6094379124341003, 'mismos': 1.6094379124341003, 'militantes': 1.2039728043259361, 'poner_en_marcha': 1.6094379124341003, 'anunció': 1.6094379124341003, 'vale': 1.6094379124341003, 'porque': 1.6094379124341003, 'principal': 1.2039728043259361, '``': 0.6931471805599453, 'intervención': 1.6094379124341003, 'electricidad_águila_de_altamira': 1.6094379124341003, 'de': 0.10536051565782635, 'grupo': 1.6094379124341003, 'años': 1.2039728043259361, 'sus': 1.6094379124341003, 'acuerdo': 1.6094379124341003, 'encargará': 1.6094379124341003, 'mi': 1.6094379124341003, 'el': 0.3566749439387324, 'euros': 1.6094379124341003, 'efe': 1.6094379124341003, '247': 1.6094379124341003, 'apuesten': 1.6094379124341003, 'electoral': 1.6094379124341003, 'funcionar': 1.6094379124341003, 'las': 0.9162907318741551, 'central': 0.9162907318741551, 'creada': 1.6094379124341003, 'en_virtud_de': 1.6094379124341003, 'emocionada': 1.6094379124341003, ',': 0.10536051565782635, 'mayo_del_2002': 1.6094379124341003, 'quedaron': 1.6094379124341003, 'todas': 1.6094379124341003, 'venta': 1.6094379124341003, 'francesa': 1.6094379124341003, 'seguiremos': 1.6094379124341003, 'quintas': 1.6094379124341003, 'electricité_de_france': 1.6094379124341003, 'eléctricas': 1.6094379124341003, 'previsto': 1.6094379124341003, 'compra': 1.6094379124341003, 'siendo': 1.6094379124341003, 'populares': 1.6094379124341003, 'gente': 1.6094379124341003, 'edf': 0.5108256237659907, 'hombre': 1.6094379124341003, '51_por_ciento': 1.6094379124341003, 'prevé': 1.6094379124341003, 'empresa': 1.6094379124341003, 'japonesa': 1.6094379124341003, '-fpa-': 0.9162907318741551, 'málaga': 1.6094379124341003, 'transmitió': 1.6094379124341003, 'hotel': 1.6094379124341003, 'tiene': 1.6094379124341003, 'definió': 1.6094379124341003, 'un': 1.2039728043259361, 'los': 0.9162907318741551, 'del': 0.9162907318741551, 'pasará': 1.6094379124341003, 'para': 0.5108256237659907, 'saltillo': 1.2039728043259361, '186': 1.6094379124341003, '*': 0.3566749439387324, 'energía': 1.6094379124341003, 'construir': 1.6094379124341003, 'participaron': 1.6094379124341003, 'diálogo': 1.6094379124341003, 'o': 1.6094379124341003, 'se': 0.9162907318741551, 'cabeza': 1.6094379124341003, 'también': 1.6094379124341003, 'megavatios': 1.2039728043259361, 'producida': 1.6094379124341003, 'problemas': 1.6094379124341003, 'que': 0.22314355131420976, 'funcionará': 1.6094379124341003, 'quien': 1.6094379124341003, 'congreso': 1.6094379124341003, 'japonés': 1.6094379124341003, 'prevista': 1.6094379124341003, 'comisión_federal_de_electricidad': 1.6094379124341003, 'aznar': 1.6094379124341003, 'provincia': 1.6094379124341003, 'proyecto': 1.6094379124341003, 'personas': 1.6094379124341003, 'pagó': 1.6094379124341003, ':': 1.6094379124341003, 'no': 0.9162907318741551, 'ataque': 1.6094379124341003, 'ilusionar': 1.6094379124341003, 'a': 0.3566749439387324, 'malagueña': 1.6094379124341003, 'lista': 1.6094379124341003, 'su': 1.6094379124341003, 'cuánto': 1.6094379124341003, 'noche': 1.6094379124341003, 'pidió': 1.6094379124341003, 'emoción': 1.6094379124341003, 'quiso': 1.6094379124341003, 'dos': 1.6094379124341003}\n"
          ]
        }
      ]
    },
    {
      "cell_type": "markdown",
      "source": [
        "## 6. Calcular TF-IDF\n",
        "\n",
        "Vamos a multiplicar los valores TF e IDF para obtener el TF-IDF\n",
        "\n",
        "$$\n",
        "TFIDF(w, d, D) = TF(w, d) \\times IDF(w, D)\n",
        "$$"
      ],
      "metadata": {
        "id": "IwrsMFXMwreG"
      }
    },
    {
      "cell_type": "code",
      "source": [
        "# Calcular TF-IDF\n",
        "tfidf = []\n",
        "for doc_tf in tf:\n",
        "    tfidf_doc = {palabra: tf_valor * idf[palabra] for palabra, tf_valor in doc_tf.items()}\n",
        "    tfidf.append(tfidf_doc)\n",
        "\n",
        "print(\"\\nTF-IDF por documento:\")\n",
        "for i, doc_tfidf in enumerate(tfidf):\n",
        "    print(f\"Documento {i+1}: {doc_tfidf}\")\n"
      ],
      "metadata": {
        "id": "cmHv4aWKwqLr",
        "colab": {
          "base_uri": "https://localhost:8080/"
        },
        "outputId": "a802efb7-fd5f-498e-8d93-3e784a587859"
      },
      "execution_count": null,
      "outputs": [
        {
          "output_type": "stream",
          "name": "stdout",
          "text": [
            "\n",
            "TF-IDF por documento:\n",
            "Documento 1: {'el': 0.01783374719693662, 'grupo': 0.04023594781085251, 'estatal': 0.04023594781085251, 'electricité_de_france': 0.04023594781085251, '-fpa-': 0.04581453659370776, 'edf': 0.012770640594149769, '-fpt-': 0.04581453659370776, 'anunció': 0.04023594781085251, 'hoy': 0.02290726829685388, ',': 0.007902038674336975, 'jueves': 0.04023594781085251, 'la': 0.0, 'compra': 0.04023594781085251, 'del': 0.02290726829685388, '51_por_ciento': 0.04023594781085251, 'de': 0.007902038674336975, 'empresa': 0.04023594781085251, 'mexicana': 0.04023594781085251, 'electricidad_águila_de_altamira': 0.04023594781085251, 'eaa': 0.02290726829685388, 'creada': 0.04023594781085251, 'por': 0.00891687359846831, 'japonés': 0.04023594781085251, 'mitsubishi_corporation': 0.04023594781085251, 'para': 0.012770640594149769, 'poner_en_marcha': 0.04023594781085251, 'una': 0.00891687359846831, 'central': 0.02290726829685388, 'gas': 0.02290726829685388, '495': 0.030099320108148406, 'megavatios': 0.030099320108148406, '.': -0.0023827544951081224}\n",
            "Documento 2: {'una': 0.016212497451760562, 'portavoz': 0.03657813437350228, 'de': 0.01197278587020754, 'edf': 0.01160967326740888, 'explicó': 0.03657813437350228, 'a': 0.016212497451760562, 'efe': 0.03657813437350228, 'que': 0.010142888696100444, 'el': 0.008106248725880281, 'proyecto': 0.03657813437350228, 'para': 0.01160967326740888, 'la': 0.0, 'construcción': 0.02736301828013491, 'altamira_2': 0.02736301828013491, ',': 0.004789114348083016, 'al': 0.020824789360776252, 'norte': 0.03657813437350228, 'tampico': 0.03657813437350228, 'prevé': 0.03657813437350228, 'utilización': 0.03657813437350228, 'gas': 0.020824789360776252, 'natural': 0.02736301828013491, 'como': 0.01160967326740888, 'combustible': 0.03657813437350228, 'principal': 0.02736301828013491, 'en': 0.02321934653481776, 'central': 0.020824789360776252, 'ciclo': 0.03657813437350228, 'combinado': 0.03657813437350228, 'debe': 0.03657813437350228, 'empezar': 0.03657813437350228, 'funcionar': 0.03657813437350228, 'mayo_del_2002': 0.03657813437350228, '.': -0.0021661404500982933}\n",
            "Documento 3: {'la': 0.0, 'electricidad': 0.048770845831336375, 'producida': 0.048770845831336375, 'pasará': 0.048770845831336375, 'a': 0.010808331634507043, 'red': 0.048770845831336375, 'eléctrica': 0.048770845831336375, 'pública': 0.048770845831336375, 'de': 0.015963714493610053, 'méxico': 0.03648402437351322, 'en_virtud_de': 0.048770845831336375, 'un': 0.03648402437351322, 'acuerdo': 0.048770845831336375, 'venta': 0.048770845831336375, 'energía': 0.048770845831336375, 'eaa': 0.027766385814368338, 'con': 0.02100446001696804, 'comisión_federal_de_electricidad': 0.048770845831336375, '-fpa-': 0.027766385814368338, 'cfe': 0.048770845831336375, '-fpt-': 0.027766385814368338, 'por': 0.010808331634507043, 'una': 0.010808331634507043, 'duración': 0.048770845831336375, '25': 0.048770845831336375, 'años': 0.03648402437351322, '.': -0.002888187266797724}\n",
            "Documento 4: {'edf': 0.012459161555268067, ',': 0.010279074698324522, 'que': 0.005442525641809994, 'no': 0.022348554435955004, 'quiso': 0.03925458323010001, 'revelar': 0.03925458323010001, 'cuánto': 0.03925458323010001, '*': 0.0347975555062178, '0': 0.0173987777531089, 'pagó': 0.03925458323010001, 'por': 0.00869938887655445, 'su': 0.03925458323010001, 'participación': 0.03925458323010001, 'mayoritaria': 0.03925458323010001, 'en': 0.024918323110536135, 'eaa': 0.022348554435955004, 'intervendrá': 0.03925458323010001, 'como': 0.024918323110536135, 'asistente': 0.03925458323010001, 'la': 0.0, 'construcción': 0.029365190349413078, 'de': 0.005139537349162261, 'altamira_2': 0.029365190349413078, 'y': 0.005442525641809994, 'posteriormente': 0.03925458323010001, 'se': 0.022348554435955004, 'encargará': 0.03925458323010001, 'explotarla': 0.03925458323010001, 'principal': 0.029365190349413078, 'accionista': 0.03925458323010001, '.': -0.0023246385318128025}\n",
            "Documento 5: {'edf': 0.011879665668976528, 'y': 0.02594692457141974, 'mitsubishi': 0.03742878866125814, 'participaron': 0.03742878866125814, 'en': 0.03563899700692959, '1998': 0.03742878866125814, 'la': 0.0, 'licitación': 0.03742878866125814, 'de': 0.0024502445501820083, 'licencias': 0.03742878866125814, 'para': 0.03563899700692959, 'construir': 0.03742878866125814, 'centrales': 0.03742878866125814, 'eléctricas': 0.03742878866125814, 'méxico': 0.02799936754246363, '*': 0.01658953227622011, '0': 0.008294766138110055, 'se': 0.021309086787771048, 'quedaron': 0.03742878866125814, 'con': 0.0161197018734871, 'dos': 0.03742878866125814, 'cada': 0.03742878866125814, 'una': 0.008294766138110055, ':': 0.03742878866125814, 'río_bravo': 0.02799936754246363, 'saltillo': 0.02799936754246363, 'compañía': 0.03742878866125814, 'francesa': 0.03742878866125814, 'altamira': 0.03742878866125814, 'tuxpán': 0.03742878866125814, 'japonesa': 0.03742878866125814, '.': -0.0022165158094029046}\n",
            "Documento 6: {'edf': 0.008807338340792944, 'tiene': 0.027748929524725865, 'previsto': 0.027748929524725865, 'invertir': 0.027748929524725865, '194': 0.027748929524725865, 'millones': 0.11099571809890346, 'de': 0.012715924303530766, 'euros': 0.05549785904945173, '-fpa-': 0.031596232133591556, '186': 0.027748929524725865, 'dólares': 0.05549785904945173, '-fpt-': 0.031596232133591556, 'en': 0.017614676681585888, 'la': 0.0, 'central': 0.015798116066795778, 'río_bravo': 0.020758151798723035, ',': 0.0054496818443703285, 'con': 0.02390162691586018, 'una': 0.006149567998943662, 'potencia': 0.05549785904945173, '495': 0.020758151798723035, 'megavatios': 0.04151630359744607, 'y': 0.007694605217731371, '134': 0.027748929524725865, '28': 0.027748929524725865, 'saltillo': 0.020758151798723035, 'que': 0.0038473026088656857, 'como': 0.008807338340792944, 'primera': 0.027748929524725865, 'funcionará': 0.027748929524725865, 'gas': 0.015798116066795778, 'natural': 0.020758151798723035, 'cuya': 0.027748929524725865, 'prevista': 0.027748929524725865, 'es': 0.020758151798723035, '247': 0.027748929524725865, '.': -0.0016432789621435326}\n",
            "Documento 7: {'la': 0.0, 'alcaldesa': 0.028739962722037504, 'de': 0.005644313338812126, 'málaga': 0.028739962722037504, 'y': 0.003984706273468031, 'cabeza': 0.028739962722037504, 'lista': 0.028739962722037504, 'del': 0.01636233449775277, 'pp': 0.01636233449775277, 'al': 0.01636233449775277, 'congreso': 0.028739962722037504, 'por': 0.006369195427477364, 'esta': 0.05747992544407501, 'provincia': 0.028739962722037504, ',': 0.00940718889802021, 'celia_villalobos': 0.028739962722037504, 'pidió': 0.028739962722037504, 'hoy': 0.01636233449775277, 'a': 0.006369195427477364, 'los': 0.01636233449775277, 'militantes': 0.021499514362963143, 'formación': 0.028739962722037504, 'que': 0.003984706273468031, '*': 0.012738390854954727, '0': 0.006369195427477364, 'sepan': 0.028739962722037504, '``': 0.049510512897138946, 'administrar': 0.028739962722037504, 'victoria': 0.021499514362963143, 'porque': 0.028739962722037504, 'no': 0.01636233449775277, 'vale': 0.028739962722037504, 'revancha': 0.028739962722037504, 'el': 0.012738390854954727, 'insulto': 0.028739962722037504, 'o': 0.028739962722037504, 'ataque': 0.028739962722037504, 'eso': 0.028739962722037504, 'es': 0.021499514362963143, 'para': 0.009121886138678405, 'ellos': 0.028739962722037504, '.': -0.0017019674965058015}\n",
            "Documento 8: {'en': 0.025974184259287665, 'una': 0.012090676065719742, 'intervención': 0.027278608685323735, 'ante': 0.027278608685323735, 'militantes': 0.0408126374347775, 'populares': 0.027278608685323735, 'el': 0.006045338032859871, 'hotel': 0.027278608685323735, 'de': 0.005357314355482696, 'la': 0.0, 'capital': 0.027278608685323735, 'malagueña': 0.027278608685323735, 'elegido': 0.027278608685323735, 'como': 0.008658061419762554, 'sede': 0.027278608685323735, 'noche': 0.027278608685323735, 'electoral': 0.027278608685323735, 'del': 0.015530351387697544, 'pp': 0.015530351387697544, ',': 0.0035715429036551304, 'villalobos': 0.02040631871738875, 'dio': 0.02040631871738875, 'las': 0.015530351387697544, 'gracias': 0.02040631871738875, '``': 0.04699302919050476, 'a': 0.006045338032859871, 'los': 0.015530351387697544, 'muchos': 0.02040631871738875, 'años': 0.02040631871738875, 'que': 0.003782094090071352, 'hoy': 0.015530351387697544, 'tienen': 0.027278608685323735, 'emoción': 0.027278608685323735, 'especial': 0.027278608685323735, 'y': 0.003782094090071352, '*': 0.012090676065719742, '0': 0.006045338032859871, 'se': 0.015530351387697544, 'confesó': 0.027278608685323735, 'también': 0.027278608685323735, 'especialmente': 0.027278608685323735, 'emocionada': 0.027278608685323735, 'sus': 0.027278608685323735, 'quintas': 0.027278608685323735, 'elecciones': 0.027278608685323735, 'generales': 0.027278608685323735, '.': -0.0016154267763444897}\n",
            "Documento 9: {'la': 0.0, 'diputada': 0.02476058326821693, 'electa': 0.02476058326821693, 'transmitió': 0.02476058326821693, '``': 0.06398281666707188, 'un': 0.018522658528091325, 'abrazo': 0.02476058326821693, 'y': 0.010298933137578913, 'mi': 0.02476058326821693, 'cariño': 0.02476058326821693, 'a': 0.02194922731930661, 'josé_maría_aznar': 0.02476058326821693, ',': 0.003241862020240811, 'quien': 0.02476058326821693, '*': 0.032923840978959916, '0': 0.016461920489479958, 'definió': 0.02476058326821693, 'como': 0.00785885575024601, 'el': 0.005487306829826653, 'hombre': 0.02476058326821693, 'que': 0.010298933137578913, 'ha': 0.04952116653643386, 'sabido': 0.04952116653643386, 'llevar': 0.02476058326821693, 'al': 0.014096780490371618, 'pp': 0.014096780490371618, 'hasta': 0.02476058326821693, 'victoria': 0.018522658528091325, 'dio': 0.018522658528091325, 'las': 0.014096780490371618, 'gracias': 0.018522658528091325, 'gente': 0.02476058326821693, 'ilusionar': 0.02476058326821693, 'convencer': 0.02476058326821693, 'muchos': 0.018522658528091325, 'para': 0.00785885575024601, 'apuesten': 0.02476058326821693, 'por': 0.005487306829826653, 'este': 0.02476058326821693, 'partido': 0.02476058326821693, '.': -0.0014663104585280753}\n",
            "Documento 10: {'a': 0.014266997757549296, 'todas': 0.032188758248682, 'estas': 0.032188758248682, 'personas': 0.032188758248682, '``': 0.055451774444795626, '*': 0.028533995515098592, '0': 0.014266997757549296, 'no': 0.018325814637483104, 'las': 0.018325814637483104, 'vamos': 0.032188758248682, 'defraudar': 0.032188758248682, ',': 0.010536051565782635, 'aseguró': 0.032188758248682, 'villalobos': 0.024079456086518722, 'que': 0.008925742052568391, 'subrayó': 0.032188758248682, 'aznar': 0.032188758248682, 'seguirá': 0.032188758248682, 'gobernando': 0.032188758248682, 'desde': 0.032188758248682, 'el': 0.007133498878774648, 'diálogo': 0.032188758248682, 'sin': 0.032188758248682, 'prepotencia': 0.032188758248682, 'con': 0.013862943611198907, 'honradez': 0.032188758248682, 'y': 0.008925742052568391, 'preocupado': 0.032188758248682, 'por': 0.007133498878774648, 'los': 0.03665162927496621, 'problemas': 0.032188758248682, 'seguiremos': 0.032188758248682, 'siendo': 0.032188758248682, 'mismos': 0.032188758248682, '.': -0.0019062035960864978}\n"
          ]
        }
      ]
    },
    {
      "cell_type": "markdown",
      "source": [
        "## 7. Representar matriz TF-IDF\n",
        "\n",
        "Por último, vamos a observar cómo se visualiza la matriz."
      ],
      "metadata": {
        "id": "oMVd_keJw4Dt"
      }
    },
    {
      "cell_type": "code",
      "source": [
        "# Crear una lista ordenada del vocabulario\n",
        "vocabulario = sorted(idf.keys())\n",
        "print(vocabulario)\n",
        "# Crear la matriz de TF-IDF\n",
        "matriz_tfidf = []\n",
        "for doc_tfidf in tfidf:\n",
        "    fila = [doc_tfidf.get(palabra, 0) for palabra in vocabulario]\n",
        "    matriz_tfidf.append(fila)\n",
        "\n",
        "print(\"\\nMatriz TF-IDF:\")\n",
        "for fila in matriz_tfidf:\n",
        "    print(fila)\n"
      ],
      "metadata": {
        "colab": {
          "base_uri": "https://localhost:8080/"
        },
        "id": "2OI0gjzwxCpO",
        "outputId": "e610181f-af82-46c7-fab2-51b5e9e09d79"
      },
      "execution_count": null,
      "outputs": [
        {
          "output_type": "stream",
          "name": "stdout",
          "text": [
            "['*', ',', '-fpa-', '-fpt-', '.', '0', '134', '186', '194', '1998', '247', '25', '28', '495', '51_por_ciento', ':', '``', 'a', 'abrazo', 'accionista', 'acuerdo', 'administrar', 'al', 'alcaldesa', 'altamira', 'altamira_2', 'ante', 'anunció', 'apuesten', 'aseguró', 'asistente', 'ataque', 'aznar', 'años', 'cabeza', 'cada', 'capital', 'cariño', 'celia_villalobos', 'central', 'centrales', 'cfe', 'ciclo', 'combinado', 'combustible', 'comisión_federal_de_electricidad', 'como', 'compañía', 'compra', 'con', 'confesó', 'congreso', 'construcción', 'construir', 'convencer', 'creada', 'cuya', 'cuánto', 'de', 'debe', 'definió', 'defraudar', 'del', 'desde', 'dio', 'diputada', 'diálogo', 'dos', 'duración', 'dólares', 'eaa', 'edf', 'efe', 'el', 'elecciones', 'electa', 'electoral', 'electricidad', 'electricidad_águila_de_altamira', 'electricité_de_france', 'elegido', 'ellos', 'eléctrica', 'eléctricas', 'emocionada', 'emoción', 'empezar', 'empresa', 'en', 'en_virtud_de', 'encargará', 'energía', 'es', 'eso', 'especial', 'especialmente', 'esta', 'estas', 'estatal', 'este', 'euros', 'explicó', 'explotarla', 'formación', 'francesa', 'funcionar', 'funcionará', 'gas', 'generales', 'gente', 'gobernando', 'gracias', 'grupo', 'ha', 'hasta', 'hombre', 'honradez', 'hotel', 'hoy', 'ilusionar', 'insulto', 'intervención', 'intervendrá', 'invertir', 'japonesa', 'japonés', 'josé_maría_aznar', 'jueves', 'la', 'las', 'licencias', 'licitación', 'lista', 'llevar', 'los', 'malagueña', 'mayo_del_2002', 'mayoritaria', 'megavatios', 'mexicana', 'mi', 'militantes', 'millones', 'mismos', 'mitsubishi', 'mitsubishi_corporation', 'muchos', 'málaga', 'méxico', 'natural', 'no', 'noche', 'norte', 'o', 'pagó', 'para', 'participación', 'participaron', 'partido', 'pasará', 'personas', 'pidió', 'poner_en_marcha', 'populares', 'por', 'porque', 'portavoz', 'posteriormente', 'potencia', 'pp', 'preocupado', 'prepotencia', 'prevista', 'previsto', 'prevé', 'primera', 'principal', 'problemas', 'producida', 'provincia', 'proyecto', 'pública', 'que', 'quedaron', 'quien', 'quintas', 'quiso', 'red', 'revancha', 'revelar', 'río_bravo', 'sabido', 'saltillo', 'se', 'sede', 'seguiremos', 'seguirá', 'sepan', 'siendo', 'sin', 'su', 'subrayó', 'sus', 'también', 'tampico', 'tiene', 'tienen', 'todas', 'transmitió', 'tuxpán', 'un', 'una', 'utilización', 'vale', 'vamos', 'venta', 'victoria', 'villalobos', 'y']\n",
            "\n",
            "Matriz TF-IDF:\n",
            "[0, 0.007902038674336975, 0.04581453659370776, 0.04581453659370776, -0.0023827544951081224, 0, 0, 0, 0, 0, 0, 0, 0, 0.030099320108148406, 0.04023594781085251, 0, 0, 0, 0, 0, 0, 0, 0, 0, 0, 0, 0, 0.04023594781085251, 0, 0, 0, 0, 0, 0, 0, 0, 0, 0, 0, 0.02290726829685388, 0, 0, 0, 0, 0, 0, 0, 0, 0.04023594781085251, 0, 0, 0, 0, 0, 0, 0.04023594781085251, 0, 0, 0.007902038674336975, 0, 0, 0, 0.02290726829685388, 0, 0, 0, 0, 0, 0, 0, 0.02290726829685388, 0.012770640594149769, 0, 0.01783374719693662, 0, 0, 0, 0, 0.04023594781085251, 0.04023594781085251, 0, 0, 0, 0, 0, 0, 0, 0.04023594781085251, 0, 0, 0, 0, 0, 0, 0, 0, 0, 0, 0.04023594781085251, 0, 0, 0, 0, 0, 0, 0, 0, 0.02290726829685388, 0, 0, 0, 0, 0.04023594781085251, 0, 0, 0, 0, 0, 0.02290726829685388, 0, 0, 0, 0, 0, 0, 0.04023594781085251, 0, 0.04023594781085251, 0.0, 0, 0, 0, 0, 0, 0, 0, 0, 0, 0.030099320108148406, 0.04023594781085251, 0, 0, 0, 0, 0, 0.04023594781085251, 0, 0, 0, 0, 0, 0, 0, 0, 0, 0.012770640594149769, 0, 0, 0, 0, 0, 0, 0.04023594781085251, 0, 0.00891687359846831, 0, 0, 0, 0, 0, 0, 0, 0, 0, 0, 0, 0, 0, 0, 0, 0, 0, 0, 0, 0, 0, 0, 0, 0, 0, 0, 0, 0, 0, 0, 0, 0, 0, 0, 0, 0, 0, 0, 0, 0, 0, 0, 0, 0, 0, 0, 0.00891687359846831, 0, 0, 0, 0, 0, 0, 0]\n",
            "[0, 0.004789114348083016, 0, 0, -0.0021661404500982933, 0, 0, 0, 0, 0, 0, 0, 0, 0, 0, 0, 0, 0.016212497451760562, 0, 0, 0, 0, 0.020824789360776252, 0, 0, 0.02736301828013491, 0, 0, 0, 0, 0, 0, 0, 0, 0, 0, 0, 0, 0, 0.020824789360776252, 0, 0, 0.03657813437350228, 0.03657813437350228, 0.03657813437350228, 0, 0.01160967326740888, 0, 0, 0, 0, 0, 0.02736301828013491, 0, 0, 0, 0, 0, 0.01197278587020754, 0.03657813437350228, 0, 0, 0, 0, 0, 0, 0, 0, 0, 0, 0, 0.01160967326740888, 0.03657813437350228, 0.008106248725880281, 0, 0, 0, 0, 0, 0, 0, 0, 0, 0, 0, 0, 0.03657813437350228, 0, 0.02321934653481776, 0, 0, 0, 0, 0, 0, 0, 0, 0, 0, 0, 0, 0.03657813437350228, 0, 0, 0, 0.03657813437350228, 0, 0.020824789360776252, 0, 0, 0, 0, 0, 0, 0, 0, 0, 0, 0, 0, 0, 0, 0, 0, 0, 0, 0, 0, 0.0, 0, 0, 0, 0, 0, 0, 0, 0.03657813437350228, 0, 0, 0, 0, 0, 0, 0, 0, 0, 0, 0, 0, 0.02736301828013491, 0, 0, 0.03657813437350228, 0, 0, 0.01160967326740888, 0, 0, 0, 0, 0, 0, 0, 0, 0, 0, 0.03657813437350228, 0, 0, 0, 0, 0, 0, 0, 0.03657813437350228, 0, 0.02736301828013491, 0, 0, 0, 0.03657813437350228, 0, 0.010142888696100444, 0, 0, 0, 0, 0, 0, 0, 0, 0, 0, 0, 0, 0, 0, 0, 0, 0, 0, 0, 0, 0, 0.03657813437350228, 0, 0, 0, 0, 0, 0, 0.016212497451760562, 0.03657813437350228, 0, 0, 0, 0, 0, 0]\n",
            "[0, 0, 0.027766385814368338, 0.027766385814368338, -0.002888187266797724, 0, 0, 0, 0, 0, 0, 0.048770845831336375, 0, 0, 0, 0, 0, 0.010808331634507043, 0, 0, 0.048770845831336375, 0, 0, 0, 0, 0, 0, 0, 0, 0, 0, 0, 0, 0.03648402437351322, 0, 0, 0, 0, 0, 0, 0, 0.048770845831336375, 0, 0, 0, 0.048770845831336375, 0, 0, 0, 0.02100446001696804, 0, 0, 0, 0, 0, 0, 0, 0, 0.015963714493610053, 0, 0, 0, 0, 0, 0, 0, 0, 0, 0.048770845831336375, 0, 0.027766385814368338, 0, 0, 0, 0, 0, 0, 0.048770845831336375, 0, 0, 0, 0, 0.048770845831336375, 0, 0, 0, 0, 0, 0, 0.048770845831336375, 0, 0.048770845831336375, 0, 0, 0, 0, 0, 0, 0, 0, 0, 0, 0, 0, 0, 0, 0, 0, 0, 0, 0, 0, 0, 0, 0, 0, 0, 0, 0, 0, 0, 0, 0, 0, 0, 0, 0, 0, 0.0, 0, 0, 0, 0, 0, 0, 0, 0, 0, 0, 0, 0, 0, 0, 0, 0, 0, 0, 0, 0.03648402437351322, 0, 0, 0, 0, 0, 0, 0, 0, 0, 0, 0.048770845831336375, 0, 0, 0, 0, 0.010808331634507043, 0, 0, 0, 0, 0, 0, 0, 0, 0, 0, 0, 0, 0, 0.048770845831336375, 0, 0, 0.048770845831336375, 0, 0, 0, 0, 0, 0.048770845831336375, 0, 0, 0, 0, 0, 0, 0, 0, 0, 0, 0, 0, 0, 0, 0, 0, 0, 0, 0, 0, 0, 0, 0.03648402437351322, 0.010808331634507043, 0, 0, 0, 0.048770845831336375, 0, 0, 0]\n",
            "[0.0347975555062178, 0.010279074698324522, 0, 0, -0.0023246385318128025, 0.0173987777531089, 0, 0, 0, 0, 0, 0, 0, 0, 0, 0, 0, 0, 0, 0.03925458323010001, 0, 0, 0, 0, 0, 0.029365190349413078, 0, 0, 0, 0, 0.03925458323010001, 0, 0, 0, 0, 0, 0, 0, 0, 0, 0, 0, 0, 0, 0, 0, 0.024918323110536135, 0, 0, 0, 0, 0, 0.029365190349413078, 0, 0, 0, 0, 0.03925458323010001, 0.005139537349162261, 0, 0, 0, 0, 0, 0, 0, 0, 0, 0, 0, 0.022348554435955004, 0.012459161555268067, 0, 0, 0, 0, 0, 0, 0, 0, 0, 0, 0, 0, 0, 0, 0, 0, 0.024918323110536135, 0, 0.03925458323010001, 0, 0, 0, 0, 0, 0, 0, 0, 0, 0, 0, 0.03925458323010001, 0, 0, 0, 0, 0, 0, 0, 0, 0, 0, 0, 0, 0, 0, 0, 0, 0, 0, 0, 0.03925458323010001, 0, 0, 0, 0, 0, 0.0, 0, 0, 0, 0, 0, 0, 0, 0, 0.03925458323010001, 0, 0, 0, 0, 0, 0, 0, 0, 0, 0, 0, 0, 0.022348554435955004, 0, 0, 0, 0.03925458323010001, 0, 0.03925458323010001, 0, 0, 0, 0, 0, 0, 0, 0.00869938887655445, 0, 0, 0.03925458323010001, 0, 0, 0, 0, 0, 0, 0, 0, 0.029365190349413078, 0, 0, 0, 0, 0, 0.005442525641809994, 0, 0, 0, 0.03925458323010001, 0, 0, 0.03925458323010001, 0, 0, 0, 0.022348554435955004, 0, 0, 0, 0, 0, 0, 0.03925458323010001, 0, 0, 0, 0, 0, 0, 0, 0, 0, 0, 0, 0, 0, 0, 0, 0, 0, 0.005442525641809994]\n",
            "[0.01658953227622011, 0, 0, 0, -0.0022165158094029046, 0.008294766138110055, 0, 0, 0, 0.03742878866125814, 0, 0, 0, 0, 0, 0.03742878866125814, 0, 0, 0, 0, 0, 0, 0, 0, 0.03742878866125814, 0, 0, 0, 0, 0, 0, 0, 0, 0, 0, 0.03742878866125814, 0, 0, 0, 0, 0.03742878866125814, 0, 0, 0, 0, 0, 0, 0.03742878866125814, 0, 0.0161197018734871, 0, 0, 0, 0.03742878866125814, 0, 0, 0, 0, 0.0024502445501820083, 0, 0, 0, 0, 0, 0, 0, 0, 0.03742878866125814, 0, 0, 0, 0.011879665668976528, 0, 0, 0, 0, 0, 0, 0, 0, 0, 0, 0, 0.03742878866125814, 0, 0, 0, 0, 0.03563899700692959, 0, 0, 0, 0, 0, 0, 0, 0, 0, 0, 0, 0, 0, 0, 0, 0.03742878866125814, 0, 0, 0, 0, 0, 0, 0, 0, 0, 0, 0, 0, 0, 0, 0, 0, 0, 0, 0, 0.03742878866125814, 0, 0, 0, 0.0, 0, 0.03742878866125814, 0.03742878866125814, 0, 0, 0, 0, 0, 0, 0, 0, 0, 0, 0, 0, 0.03742878866125814, 0, 0, 0, 0.02799936754246363, 0, 0, 0, 0, 0, 0, 0.03563899700692959, 0, 0.03742878866125814, 0, 0, 0, 0, 0, 0, 0, 0, 0, 0, 0, 0, 0, 0, 0, 0, 0, 0, 0, 0, 0, 0, 0, 0, 0, 0.03742878866125814, 0, 0, 0, 0, 0, 0, 0.02799936754246363, 0, 0.02799936754246363, 0.021309086787771048, 0, 0, 0, 0, 0, 0, 0, 0, 0, 0, 0, 0, 0, 0, 0, 0.03742878866125814, 0, 0.008294766138110055, 0, 0, 0, 0, 0, 0, 0.02594692457141974]\n",
            "[0, 0.0054496818443703285, 0.031596232133591556, 0.031596232133591556, -0.0016432789621435326, 0, 0.027748929524725865, 0.027748929524725865, 0.027748929524725865, 0, 0.027748929524725865, 0, 0.027748929524725865, 0.020758151798723035, 0, 0, 0, 0, 0, 0, 0, 0, 0, 0, 0, 0, 0, 0, 0, 0, 0, 0, 0, 0, 0, 0, 0, 0, 0, 0.015798116066795778, 0, 0, 0, 0, 0, 0, 0.008807338340792944, 0, 0, 0.02390162691586018, 0, 0, 0, 0, 0, 0, 0.027748929524725865, 0, 0.012715924303530766, 0, 0, 0, 0, 0, 0, 0, 0, 0, 0, 0.05549785904945173, 0, 0.008807338340792944, 0, 0, 0, 0, 0, 0, 0, 0, 0, 0, 0, 0, 0, 0, 0, 0, 0.017614676681585888, 0, 0, 0, 0.020758151798723035, 0, 0, 0, 0, 0, 0, 0, 0.05549785904945173, 0, 0, 0, 0, 0, 0.027748929524725865, 0.015798116066795778, 0, 0, 0, 0, 0, 0, 0, 0, 0, 0, 0, 0, 0, 0, 0, 0.027748929524725865, 0, 0, 0, 0, 0.0, 0, 0, 0, 0, 0, 0, 0, 0, 0, 0.04151630359744607, 0, 0, 0, 0.11099571809890346, 0, 0, 0, 0, 0, 0, 0.020758151798723035, 0, 0, 0, 0, 0, 0, 0, 0, 0, 0, 0, 0, 0, 0, 0, 0, 0, 0, 0.05549785904945173, 0, 0, 0, 0.027748929524725865, 0.027748929524725865, 0, 0.027748929524725865, 0, 0, 0, 0, 0, 0, 0.0038473026088656857, 0, 0, 0, 0, 0, 0, 0, 0.020758151798723035, 0, 0.020758151798723035, 0, 0, 0, 0, 0, 0, 0, 0, 0, 0, 0, 0, 0.027748929524725865, 0, 0, 0, 0, 0, 0.006149567998943662, 0, 0, 0, 0, 0, 0, 0.007694605217731371]\n",
            "[0.012738390854954727, 0.00940718889802021, 0, 0, -0.0017019674965058015, 0.006369195427477364, 0, 0, 0, 0, 0, 0, 0, 0, 0, 0, 0.049510512897138946, 0.006369195427477364, 0, 0, 0, 0.028739962722037504, 0.01636233449775277, 0.028739962722037504, 0, 0, 0, 0, 0, 0, 0, 0.028739962722037504, 0, 0, 0.028739962722037504, 0, 0, 0, 0.028739962722037504, 0, 0, 0, 0, 0, 0, 0, 0, 0, 0, 0, 0, 0.028739962722037504, 0, 0, 0, 0, 0, 0, 0.005644313338812126, 0, 0, 0, 0.01636233449775277, 0, 0, 0, 0, 0, 0, 0, 0, 0, 0, 0.012738390854954727, 0, 0, 0, 0, 0, 0, 0, 0.028739962722037504, 0, 0, 0, 0, 0, 0, 0, 0, 0, 0, 0.021499514362963143, 0.028739962722037504, 0, 0, 0.05747992544407501, 0, 0, 0, 0, 0, 0, 0.028739962722037504, 0, 0, 0, 0, 0, 0, 0, 0, 0, 0, 0, 0, 0, 0, 0.01636233449775277, 0, 0.028739962722037504, 0, 0, 0, 0, 0, 0, 0, 0.0, 0, 0, 0, 0.028739962722037504, 0, 0.01636233449775277, 0, 0, 0, 0, 0, 0, 0.021499514362963143, 0, 0, 0, 0, 0, 0.028739962722037504, 0, 0, 0.01636233449775277, 0, 0, 0.028739962722037504, 0, 0.009121886138678405, 0, 0, 0, 0, 0, 0.028739962722037504, 0, 0, 0.006369195427477364, 0.028739962722037504, 0, 0, 0, 0.01636233449775277, 0, 0, 0, 0, 0, 0, 0, 0, 0, 0.028739962722037504, 0, 0, 0.003984706273468031, 0, 0, 0, 0, 0, 0.028739962722037504, 0, 0, 0, 0, 0, 0, 0, 0, 0.028739962722037504, 0, 0, 0, 0, 0, 0, 0, 0, 0, 0, 0, 0, 0, 0, 0, 0.028739962722037504, 0, 0, 0.021499514362963143, 0, 0.003984706273468031]\n",
            "[0.012090676065719742, 0.0035715429036551304, 0, 0, -0.0016154267763444897, 0.006045338032859871, 0, 0, 0, 0, 0, 0, 0, 0, 0, 0, 0.04699302919050476, 0.006045338032859871, 0, 0, 0, 0, 0, 0, 0, 0, 0.027278608685323735, 0, 0, 0, 0, 0, 0, 0.02040631871738875, 0, 0, 0.027278608685323735, 0, 0, 0, 0, 0, 0, 0, 0, 0, 0.008658061419762554, 0, 0, 0, 0.027278608685323735, 0, 0, 0, 0, 0, 0, 0, 0.005357314355482696, 0, 0, 0, 0.015530351387697544, 0, 0.02040631871738875, 0, 0, 0, 0, 0, 0, 0, 0, 0.006045338032859871, 0.027278608685323735, 0, 0.027278608685323735, 0, 0, 0, 0.027278608685323735, 0, 0, 0, 0.027278608685323735, 0.027278608685323735, 0, 0, 0.025974184259287665, 0, 0, 0, 0, 0, 0.027278608685323735, 0.027278608685323735, 0, 0, 0, 0, 0, 0, 0, 0, 0, 0, 0, 0, 0.027278608685323735, 0, 0, 0.02040631871738875, 0, 0, 0, 0, 0, 0.027278608685323735, 0.015530351387697544, 0, 0, 0.027278608685323735, 0, 0, 0, 0, 0, 0, 0.0, 0.015530351387697544, 0, 0, 0, 0, 0.015530351387697544, 0.027278608685323735, 0, 0, 0, 0, 0, 0.0408126374347775, 0, 0, 0, 0, 0.02040631871738875, 0, 0, 0, 0, 0.027278608685323735, 0, 0, 0, 0, 0, 0, 0, 0, 0, 0, 0, 0.027278608685323735, 0, 0, 0, 0, 0, 0.015530351387697544, 0, 0, 0, 0, 0, 0, 0, 0, 0, 0, 0, 0, 0.003782094090071352, 0, 0, 0.027278608685323735, 0, 0, 0, 0, 0, 0, 0, 0.015530351387697544, 0.027278608685323735, 0, 0, 0, 0, 0, 0, 0, 0.027278608685323735, 0.027278608685323735, 0, 0, 0.027278608685323735, 0, 0, 0, 0, 0.012090676065719742, 0, 0, 0, 0, 0, 0.02040631871738875, 0.003782094090071352]\n",
            "[0.032923840978959916, 0.003241862020240811, 0, 0, -0.0014663104585280753, 0.016461920489479958, 0, 0, 0, 0, 0, 0, 0, 0, 0, 0, 0.06398281666707188, 0.02194922731930661, 0.02476058326821693, 0, 0, 0, 0.014096780490371618, 0, 0, 0, 0, 0, 0.02476058326821693, 0, 0, 0, 0, 0, 0, 0, 0, 0.02476058326821693, 0, 0, 0, 0, 0, 0, 0, 0, 0.00785885575024601, 0, 0, 0, 0, 0, 0, 0, 0.02476058326821693, 0, 0, 0, 0, 0, 0.02476058326821693, 0, 0, 0, 0.018522658528091325, 0.02476058326821693, 0, 0, 0, 0, 0, 0, 0, 0.005487306829826653, 0, 0.02476058326821693, 0, 0, 0, 0, 0, 0, 0, 0, 0, 0, 0, 0, 0, 0, 0, 0, 0, 0, 0, 0, 0, 0, 0, 0.02476058326821693, 0, 0, 0, 0, 0, 0, 0, 0, 0, 0.02476058326821693, 0, 0.018522658528091325, 0, 0.04952116653643386, 0.02476058326821693, 0.02476058326821693, 0, 0, 0, 0.02476058326821693, 0, 0, 0, 0, 0, 0, 0.02476058326821693, 0, 0.0, 0.014096780490371618, 0, 0, 0, 0.02476058326821693, 0, 0, 0, 0, 0, 0, 0.02476058326821693, 0, 0, 0, 0, 0, 0.018522658528091325, 0, 0, 0, 0, 0, 0, 0, 0, 0.00785885575024601, 0, 0, 0.02476058326821693, 0, 0, 0, 0, 0, 0.005487306829826653, 0, 0, 0, 0, 0.014096780490371618, 0, 0, 0, 0, 0, 0, 0, 0, 0, 0, 0, 0, 0.010298933137578913, 0, 0.02476058326821693, 0, 0, 0, 0, 0, 0, 0.04952116653643386, 0, 0, 0, 0, 0, 0, 0, 0, 0, 0, 0, 0, 0, 0, 0, 0, 0.02476058326821693, 0, 0.018522658528091325, 0, 0, 0, 0, 0, 0.018522658528091325, 0, 0.010298933137578913]\n",
            "[0.028533995515098592, 0.010536051565782635, 0, 0, -0.0019062035960864978, 0.014266997757549296, 0, 0, 0, 0, 0, 0, 0, 0, 0, 0, 0.055451774444795626, 0.014266997757549296, 0, 0, 0, 0, 0, 0, 0, 0, 0, 0, 0, 0.032188758248682, 0, 0, 0.032188758248682, 0, 0, 0, 0, 0, 0, 0, 0, 0, 0, 0, 0, 0, 0, 0, 0, 0.013862943611198907, 0, 0, 0, 0, 0, 0, 0, 0, 0, 0, 0, 0.032188758248682, 0, 0.032188758248682, 0, 0, 0.032188758248682, 0, 0, 0, 0, 0, 0, 0.007133498878774648, 0, 0, 0, 0, 0, 0, 0, 0, 0, 0, 0, 0, 0, 0, 0, 0, 0, 0, 0, 0, 0, 0, 0, 0.032188758248682, 0, 0, 0, 0, 0, 0, 0, 0, 0, 0, 0, 0, 0.032188758248682, 0, 0, 0, 0, 0, 0.032188758248682, 0, 0, 0, 0, 0, 0, 0, 0, 0, 0, 0, 0, 0.018325814637483104, 0, 0, 0, 0, 0.03665162927496621, 0, 0, 0, 0, 0, 0, 0, 0, 0.032188758248682, 0, 0, 0, 0, 0, 0, 0.018325814637483104, 0, 0, 0, 0, 0, 0, 0, 0, 0, 0.032188758248682, 0, 0, 0, 0.007133498878774648, 0, 0, 0, 0, 0, 0.032188758248682, 0.032188758248682, 0, 0, 0, 0, 0, 0.032188758248682, 0, 0, 0, 0, 0.008925742052568391, 0, 0, 0, 0, 0, 0, 0, 0, 0, 0, 0, 0, 0.032188758248682, 0.032188758248682, 0, 0.032188758248682, 0.032188758248682, 0, 0.032188758248682, 0, 0, 0, 0, 0, 0.032188758248682, 0, 0, 0, 0, 0, 0, 0.032188758248682, 0, 0, 0.024079456086518722, 0.008925742052568391]\n"
          ]
        }
      ]
    },
    {
      "cell_type": "markdown",
      "source": [
        "# Ejemplo de modelo de _Latent Semantic Analysis_ (LSA)\n"
      ],
      "metadata": {
        "id": "KrQFWVF-1nRU"
      }
    },
    {
      "cell_type": "markdown",
      "source": [
        "## 1. Obtener Matriz TF-IDF"
      ],
      "metadata": {
        "id": "j6LK1Q8_zj-4"
      }
    },
    {
      "cell_type": "code",
      "source": [
        "import nltk\n",
        "from nltk.corpus import cess_esp\n",
        "from nltk.tokenize import word_tokenize\n",
        "from collections import Counter\n",
        "from math import log\n",
        "import numpy as np\n",
        "\n",
        "# Descargar datos y tokenizadores\n",
        "nltk.download('cess_esp')  # Conjunto de datos en español\n",
        "nltk.download('punkt')  # Tokenizador para oraciones\n",
        "\n",
        "# Tomar las primeras 10 oraciones del corpus\n",
        "oraciones = cess_esp.sents()[:10]\n",
        "\n",
        "# Tokenizar y convertir a minúsculas\n",
        "oraciones_tokenizadas = [' '.join(oracion).lower() for oracion in oraciones]\n",
        "\n",
        "# Tokenizar palabras en cada documento\n",
        "documentos_tokenizados = [\n",
        "    word_tokenize(oracion) for oracion in oraciones_tokenizadas\n",
        "]\n",
        "\n",
        "# Calcular TF\n",
        "tf = []\n",
        "for tokens in documentos_tokenizados:\n",
        "    frecuencia_palabras = Counter(tokens)\n",
        "    total_palabras = len(tokens)\n",
        "    tf.append(\n",
        "        {\n",
        "            palabra: frecuencia / total_palabras for palabra,\n",
        "            frecuencia in frecuencia_palabras.items()\n",
        "        }\n",
        "    )\n",
        "\n",
        "# Crear un conjunto de todas las palabras únicas en el corpus (vocabulario)\n",
        "palabras_unicas = set(\n",
        "    word for tokens in documentos_tokenizados for word in tokens\n",
        ")\n",
        "\n",
        "# Calcular IDF\n",
        "idf = {}\n",
        "total_documentos = len(oraciones_tokenizadas)\n",
        "for palabra in palabras_unicas:\n",
        "    # Contar cuántos documentos contienen la palabra\n",
        "    documentos_contienen_palabra = sum(\n",
        "        1 for tokens in documentos_tokenizados if palabra in tokens\n",
        "    )\n",
        "    idf[palabra] = log(\n",
        "        total_documentos / (1 + documentos_contienen_palabra)\n",
        "    )  # Se suma 1 para evitar división por cero\n",
        "\n",
        "# Crear una lista ordenada del vocabulario\n",
        "vocabulario = sorted(idf.keys())\n",
        "\n",
        "# Calcular TF-IDF para cada documento\n",
        "tfidf = []\n",
        "for doc_tf in tf:\n",
        "    tfidf.append(\n",
        "        {\n",
        "            palabra: tf_value * idf[palabra] for palabra,\n",
        "            tf_value in doc_tf.items()\n",
        "        }\n",
        "    )\n",
        "\n",
        "# Crear la matriz TF-IDF\n",
        "matriz_tfidf = []\n",
        "for doc_tfidf in tfidf:\n",
        "    fila = [doc_tfidf.get(palabra, 0) for palabra in vocabulario]\n",
        "    matriz_tfidf.append(fila)\n",
        "\n",
        "matriz_tfidf = np.array(matriz_tfidf)\n",
        "print(\"\\nMatriz TF-IDF:\")\n",
        "print(matriz_tfidf)\n"
      ],
      "metadata": {
        "colab": {
          "base_uri": "https://localhost:8080/"
        },
        "id": "xRIzuPHFzdIx",
        "outputId": "b6ea6cca-c2ee-4e7d-b80b-7e64af162c65"
      },
      "execution_count": null,
      "outputs": [
        {
          "output_type": "stream",
          "name": "stdout",
          "text": [
            "\n",
            "Matriz TF-IDF:\n",
            "[[0.         0.00790204 0.04581454 ... 0.         0.         0.        ]\n",
            " [0.         0.00478911 0.         ... 0.         0.         0.        ]\n",
            " [0.         0.         0.02776639 ... 0.         0.         0.        ]\n",
            " ...\n",
            " [0.01209068 0.00357154 0.         ... 0.         0.02040632 0.00378209]\n",
            " [0.03292384 0.00324186 0.         ... 0.01852266 0.         0.01029893]\n",
            " [0.028534   0.01053605 0.         ... 0.         0.02407946 0.00892574]]\n"
          ]
        },
        {
          "output_type": "stream",
          "name": "stderr",
          "text": [
            "[nltk_data] Downloading package cess_esp to /root/nltk_data...\n",
            "[nltk_data]   Package cess_esp is already up-to-date!\n",
            "[nltk_data] Downloading package punkt to /root/nltk_data...\n",
            "[nltk_data]   Package punkt is already up-to-date!\n"
          ]
        }
      ]
    },
    {
      "cell_type": "markdown",
      "source": [
        "## 2. Calcular _Singular Value Decomposition_ (SVD)\n",
        "\n",
        "Podemos reducir dimensiones a partir de descomponer la matriz en sus valores singulares para recomponerla posteriormente.\n"
      ],
      "metadata": {
        "id": "vOcoA5RPzsnH"
      }
    },
    {
      "cell_type": "code",
      "source": [
        "from sklearn.decomposition import TruncatedSVD\n",
        "\n",
        "# Aplicar SVD (puede reducirse a cualquier número de dimensiones)\n",
        "# Aprovechamos para reducir a 2 dimensiones pensando en un ejemplo futuro\n",
        "svd = TruncatedSVD(n_components=2)\n",
        "matriz_lsi = svd.fit_transform(matriz_tfidf)\n",
        "\n",
        "print(\"\\nMatriz LSI:\")\n",
        "print(matriz_lsi)\n"
      ],
      "metadata": {
        "colab": {
          "base_uri": "https://localhost:8080/"
        },
        "id": "H3PrgH3a0rLz",
        "outputId": "7fc0ade7-cec9-4e31-d947-78013f014edc"
      },
      "execution_count": null,
      "outputs": [
        {
          "output_type": "stream",
          "name": "stdout",
          "text": [
            "\n",
            "Matriz LSI:\n",
            "[[ 0.0842422  -0.03822287]\n",
            " [ 0.03828897  0.0149093 ]\n",
            " [ 0.11354464 -0.07465865]\n",
            " [ 0.04096648  0.03917424]\n",
            " [ 0.05187158  0.02144943]\n",
            " [ 0.11678241 -0.06022394]\n",
            " [ 0.04313018  0.0758499 ]\n",
            " [ 0.04889247  0.07480675]\n",
            " [ 0.04601838  0.0839968 ]\n",
            " [ 0.04843477  0.09595489]]\n"
          ]
        }
      ]
    },
    {
      "cell_type": "markdown",
      "source": [
        "Con esto ya tendríamos listo lo que queremos observar, sin embargo, podemos aprovechar la matriz para crear una visualización sencilla."
      ],
      "metadata": {
        "id": "SruRnDl81Whj"
      }
    },
    {
      "cell_type": "markdown",
      "source": [
        "## 3. Visualizar los resultados\n",
        "\n",
        "Podemos visualizar los documentos en el espacio reducido de LSI para entender cómo están relacionados semánticamente."
      ],
      "metadata": {
        "id": "JJiS6Lv_1geU"
      }
    },
    {
      "cell_type": "code",
      "source": [
        "import matplotlib.pyplot as plt\n",
        "\n",
        "# Visualizar la matriz LSI\n",
        "plt.figure(figsize=(10, 10))\n",
        "plt.scatter(matriz_lsi[:, 0], matriz_lsi[:, 1])\n",
        "\n",
        "# Anotar los puntos con los índices de los documentos\n",
        "for i in range(len(matriz_lsi)):\n",
        "    plt.annotate(f'Doc {i+1}', (matriz_lsi[i, 0], matriz_lsi[i, 1]))\n",
        "\n",
        "plt.title('Visualización de Documentos usando LSI')\n",
        "plt.xlabel('Dimensión 1')\n",
        "plt.ylabel('Dimensión 2')\n",
        "plt.grid(True)\n",
        "plt.show()\n"
      ],
      "metadata": {
        "colab": {
          "base_uri": "https://localhost:8080/",
          "height": 872
        },
        "id": "XApiJAIF2DwB",
        "outputId": "c7c1da47-1ba0-4a58-a73b-9382d6b51d6d"
      },
      "execution_count": null,
      "outputs": [
        {
          "output_type": "display_data",
          "data": {
            "text/plain": [
              "<Figure size 1000x1000 with 1 Axes>"
            ],
            "image/png": "[encoded data removed]"
          },
          "metadata": {}
        }
      ]
    },
    {
      "cell_type": "markdown",
      "source": [
        "# Ejemplo de modelo Word2Vec"
      ],
      "metadata": {
        "id": "um9uGYZw6p8u"
      }
    },
    {
      "cell_type": "markdown",
      "source": [
        "## 1. Entrenar el modelo Word2Vec"
      ],
      "metadata": {
        "id": "u-7nEk6i7CmS"
      }
    },
    {
      "cell_type": "code",
      "source": [
        "import nltk\n",
        "from nltk.corpus import cess_esp\n",
        "from nltk.tokenize import word_tokenize\n",
        "from gensim.models import Word2Vec\n",
        "import numpy as np\n",
        "\n",
        "# Descargar datos y tokenizadores\n",
        "nltk.download('cess_esp')\n",
        "nltk.download('punkt')\n",
        "\n",
        "# Tomar las primeras 10 oraciones del corpus\n",
        "oraciones = cess_esp.sents()[:10]\n",
        "\n",
        "# Tokenizar y convertir a minúsculas\n",
        "oraciones_tokenizadas = [' '.join(oracion).lower() for oracion in oraciones]\n",
        "documentos_tokenizados = [\n",
        "    word_tokenize(oracion) for oracion in oraciones_tokenizadas\n",
        "]\n",
        "\n",
        "# Entrenar el modelo Word2Vec utilizando CBOW\n",
        "model_w2v = Word2Vec(\n",
        "    sentences=documentos_tokenizados,\n",
        "    vector_size=100,\n",
        "    window=5,\n",
        "    min_count=1,\n",
        "    sg=0\n",
        ")\n",
        "\n",
        "# Mostrar un ejemplo de vector para una palabra\n",
        "vector_mexicana = model_w2v.wv['mexicana']\n",
        "print(\"Vector para 'mexicana' con Word2Vec:\")\n",
        "print(vector_mexicana)\n"
      ],
      "metadata": {
        "colab": {
          "base_uri": "https://localhost:8080/"
        },
        "id": "mTHmjgY62Gkd",
        "outputId": "7a0970aa-00ea-42cb-9d7c-eb906f9a6229"
      },
      "execution_count": null,
      "outputs": [
        {
          "output_type": "stream",
          "name": "stdout",
          "text": [
            "Vector para 'mexicana' con Word2Vec:\n",
            "[ 3.1961864e-03  9.1267806e-03  6.6992021e-03 -9.9532921e-03\n",
            " -1.5531909e-03 -3.1142375e-03  9.6054003e-03 -2.8610216e-03\n",
            "  2.0670568e-04  6.0627568e-03 -3.2061033e-03 -9.1443928e-03\n",
            "  5.9535704e-04 -5.0330022e-03 -2.8576555e-03  8.1207873e-03\n",
            "  6.0995278e-04  5.0991266e-03  1.2991469e-03 -4.6061310e-03\n",
            " -3.0392224e-03  5.6385766e-03  3.9088866e-03  8.4246211e-03\n",
            "  6.3059959e-03  9.4749294e-03  9.8956004e-03  9.5413774e-03\n",
            "  2.3349710e-03  8.3770597e-04 -1.1894736e-03 -7.8160223e-03\n",
            "  5.4201642e-03  4.0814845e-04 -2.8073085e-03 -6.5219575e-03\n",
            "  8.9597460e-03  7.8899396e-04  4.5296381e-04 -8.6342208e-03\n",
            " -7.7226325e-03  3.9769146e-03  4.6519837e-03 -8.7484764e-03\n",
            "  1.2401929e-03 -4.3542194e-03  6.5732733e-03  7.1079317e-03\n",
            " -6.0906950e-03 -7.8567788e-03 -7.2234403e-03 -5.9238225e-03\n",
            "  7.8604082e-03 -2.6910515e-03 -5.6352541e-03 -2.9947325e-03\n",
            "  1.2823410e-03  6.2137963e-03 -3.8509653e-03 -8.3958935e-03\n",
            "  7.5995438e-03 -1.5116308e-03  7.5969039e-03  6.1975038e-03\n",
            " -6.6664265e-03  5.8391448e-03 -8.5991435e-03  8.4269810e-03\n",
            " -3.0576068e-03 -9.3591651e-03 -6.8882424e-03  9.8865908e-03\n",
            " -9.0759876e-04 -1.9137536e-03 -2.0409785e-03  8.1633776e-03\n",
            " -9.4480840e-03  9.7447941e-03 -3.6880875e-03 -1.2438309e-03\n",
            "  6.6528250e-03  2.8638329e-04  9.1887871e-04 -4.5469007e-04\n",
            "  9.8031024e-03  9.9623175e-03  1.8098812e-03  7.4390897e-05\n",
            "  8.8319601e-03  3.3815464e-03 -6.1959131e-03 -1.2689319e-03\n",
            " -3.3548486e-03  4.4689788e-03  1.5908651e-03  4.0687644e-03\n",
            " -6.9843531e-03  4.4742133e-03 -5.0116814e-04  1.4219752e-03]\n"
          ]
        },
        {
          "output_type": "stream",
          "name": "stderr",
          "text": [
            "[nltk_data] Downloading package cess_esp to /root/nltk_data...\n",
            "[nltk_data]   Package cess_esp is already up-to-date!\n",
            "[nltk_data] Downloading package punkt to /root/nltk_data...\n",
            "[nltk_data]   Package punkt is already up-to-date!\n"
          ]
        }
      ]
    },
    {
      "cell_type": "markdown",
      "source": [
        "para más información sobre gensim y particularmente sobre el modelo Word2Vec con llaves pueden visitar [models.keyedvectors – Store and query word vectors](https://radimrehurek.com/gensim/models/keyedvectors.html#gensim.models.keyedvectors.KeyedVectors)\n"
      ],
      "metadata": {
        "id": "gt0lS5qG5WId"
      }
    },
    {
      "cell_type": "markdown",
      "source": [
        "## 2. Crear la Matriz de Word2Vec para los Documentos"
      ],
      "metadata": {
        "id": "oMD93OpA7TP7"
      }
    },
    {
      "cell_type": "code",
      "source": [
        "# Crear la matriz de Word2Vec para los documentos\n",
        "def obtener_vector_documento(tokens, model):\n",
        "    vector_documento = np.zeros(model.vector_size)\n",
        "    contador_palabras = 0\n",
        "    for palabra in tokens:\n",
        "        if palabra in model.wv:\n",
        "            vector_documento += model.wv[palabra]\n",
        "            contador_palabras += 1\n",
        "    if contador_palabras > 0:\n",
        "        vector_documento /= contador_palabras\n",
        "    return vector_documento\n",
        "\n",
        "matriz_word2vec = np.array(\n",
        "    [\n",
        "        obtener_vector_documento(tokens, model_w2v)\n",
        "        for tokens in documentos_tokenizados\n",
        "    ]\n",
        ")\n",
        "\n",
        "print(\"\\nMatriz de Word2Vec para documentos:\")\n",
        "print(matriz_word2vec)\n"
      ],
      "metadata": {
        "colab": {
          "base_uri": "https://localhost:8080/"
        },
        "id": "MFDCedQd3IBq",
        "outputId": "f795db98-1726-451f-d4fc-f647f71557dd"
      },
      "execution_count": null,
      "outputs": [
        {
          "output_type": "stream",
          "name": "stdout",
          "text": [
            "\n",
            "Matriz de Word2Vec para documentos:\n",
            "[[ 2.94720373e-04  1.85482213e-03  1.36354335e-03 -4.25808984e-04\n",
            "   7.65424661e-04 -1.83485734e-03  8.40274628e-04  2.87117260e-03\n",
            "  -1.47924513e-03 -1.08356528e-03 -1.12266598e-03 -3.25581184e-03\n",
            "   5.08500492e-04  1.30084756e-03  9.22800475e-04 -8.71191977e-04\n",
            "   1.14427549e-03  9.09914605e-05 -1.43405315e-03 -4.24027931e-03\n",
            "   4.03787434e-04 -2.72263694e-04  5.20248585e-04 -9.99094325e-04\n",
            "   8.20508310e-04  7.37686770e-04 -1.58134726e-03  5.21473031e-04\n",
            "  -1.14456821e-03  1.91987010e-03  6.23269289e-04 -3.63983711e-04\n",
            "   1.85148057e-03 -1.68329647e-03 -1.68101815e-03  1.07375441e-03\n",
            "   3.67450637e-04 -8.95342077e-04  6.20892513e-04 -1.65251204e-03\n",
            "  -3.41011885e-04 -1.10751832e-03 -1.28177752e-03  3.65766422e-04\n",
            "   6.20702661e-04  2.18919331e-04 -1.02433334e-03 -8.80849809e-04\n",
            "   1.12247940e-03  7.99191676e-04 -1.05375418e-03 -1.55567301e-03\n",
            "   2.94266945e-04 -4.95457555e-04  9.50426905e-04  1.20780958e-03\n",
            "   7.28352214e-05  3.01179184e-04 -6.38664010e-05  3.23196405e-03\n",
            "  -6.28950816e-04 -1.16204908e-03 -1.70270071e-04  4.96019097e-04\n",
            "   2.26802254e-04  2.63185335e-03  7.28475411e-04 -2.00082043e-04\n",
            "  -2.74056717e-04  1.72638099e-03 -1.01820422e-03  6.92222604e-04\n",
            "   8.10026644e-04 -3.50899216e-04  8.64849970e-04  7.10826838e-04\n",
            "   1.17795484e-03 -6.47672217e-04  6.84623914e-04 -6.45258218e-04\n",
            "  -4.63073468e-04  8.06868310e-04  5.76023124e-04  1.38535809e-03\n",
            "   1.04035530e-04  4.47476005e-04  2.09004904e-03 -1.48345953e-03\n",
            "   3.01827666e-03  1.28104640e-04  2.10292959e-03  1.65723839e-03\n",
            "   6.73482798e-04 -1.80546611e-03  1.04710616e-03  1.10661372e-04\n",
            "  -5.79962772e-04 -1.84389139e-03  6.62329823e-04  8.33894889e-04]\n",
            " [-3.52603125e-05  4.34788863e-04  1.41677282e-03  2.86786428e-03\n",
            "  -6.34989121e-04 -1.36493416e-03  2.15813145e-03  2.21216163e-03\n",
            "  -1.96769504e-03 -1.67998675e-03  8.97039466e-04 -1.63218665e-03\n",
            "   3.51703402e-04  2.21957876e-03 -8.67992948e-04 -7.96445567e-05\n",
            "   1.00819757e-03 -1.63935288e-04 -1.52324306e-03 -3.89119402e-03\n",
            "   1.93036106e-03  5.82315669e-04  1.65202821e-03 -1.82116505e-03\n",
            "   6.16147482e-04  4.56511911e-04 -1.40358496e-03 -1.00544651e-04\n",
            "  -1.07666154e-03  3.21066076e-04  2.55216813e-04  1.06469963e-04\n",
            "   1.07937049e-03 -1.30220445e-03 -1.50008553e-03  1.20951174e-03\n",
            "   1.13921399e-03 -9.28933842e-04 -9.81718624e-04 -2.64572378e-03\n",
            "  -5.85941946e-04  1.05964444e-04 -2.09805263e-03  4.26119935e-04\n",
            "   1.11620524e-03  5.80387068e-04 -4.15938569e-04 -4.97317365e-04\n",
            "   1.24939718e-03  1.67107711e-03  3.03081856e-04 -1.30692442e-03\n",
            "  -1.23241455e-03 -5.42760801e-04 -2.44515853e-04  8.85761522e-05\n",
            "  -1.02945456e-03 -1.33045286e-03 -2.48791743e-03  1.03362374e-03\n",
            "  -1.12935784e-03 -3.68861757e-04  1.28418928e-03 -2.09986699e-04\n",
            "  -2.37686330e-03  1.55729964e-03 -5.24554909e-05  2.61362615e-03\n",
            "  -2.15905430e-03  2.46530903e-03  1.54504422e-04  2.45503063e-03\n",
            "   1.08018993e-03  3.26157008e-04  6.13889417e-04  5.30937174e-04\n",
            "   6.11987966e-04 -1.45310262e-04 -1.63776284e-03 -8.64306874e-04\n",
            "  -6.06855741e-04 -3.06957892e-04 -4.37704893e-04  1.66920853e-03\n",
            "  -8.14092397e-04 -9.82817884e-04  2.02058681e-03 -7.25796123e-04\n",
            "   4.26259898e-04  7.92203093e-04  6.52422253e-04  1.87230886e-03\n",
            "  -3.96378813e-04  5.74526036e-04  1.95690676e-03  1.20688890e-03\n",
            "   3.32096374e-04 -3.55133118e-04  5.94404407e-04  1.05993020e-03]\n",
            " [ 2.68667029e-03  2.01454819e-03  5.12933748e-04  1.99377690e-03\n",
            "  -4.37305894e-04 -1.45044633e-03  2.77314461e-03  2.87534668e-03\n",
            "  -2.57181464e-03 -1.65097485e-03 -3.30344766e-04 -2.42175260e-03\n",
            "   6.44709784e-04  1.11998838e-03  3.87512311e-04 -1.02913088e-03\n",
            "   9.99124613e-05  1.00401668e-03 -2.31317488e-03 -2.97492334e-03\n",
            "   1.12765359e-03 -5.84144969e-04  1.29222992e-03 -1.59974295e-03\n",
            "   1.70488543e-03 -7.09010382e-04  3.58434698e-04  1.87822374e-04\n",
            "  -1.49766020e-03 -1.16634125e-03 -1.18071501e-03 -1.62965251e-03\n",
            "   1.86041756e-03 -7.43107296e-04 -2.71636769e-04  2.17200138e-03\n",
            "   8.88655227e-04 -4.48366760e-04 -5.47166607e-04 -1.11139222e-03\n",
            "  -2.39558968e-03 -2.95041593e-04 -1.72071340e-03  1.03867161e-03\n",
            "  -2.37277411e-05  1.50288411e-04 -1.60875219e-03  2.23216546e-04\n",
            "  -1.27125398e-04  2.27308085e-03 -1.36509694e-03 -9.01745711e-04\n",
            "  -4.76243469e-04 -1.64198866e-03  1.32880643e-03  2.11138312e-04\n",
            "   5.30429172e-04 -6.43592137e-04 -4.32356698e-04  6.24182405e-04\n",
            "  -5.58706974e-05 -2.01475765e-03 -8.15688316e-07 -9.69005563e-04\n",
            "  -1.62397166e-03  1.37815205e-03  1.88753401e-03  3.27642610e-03\n",
            "  -1.73971756e-03  1.46025334e-03  6.64191726e-04  2.18510967e-03\n",
            "   5.51231327e-04 -1.42027987e-03  1.76311943e-03  2.06500955e-03\n",
            "   2.34378305e-03  1.98353787e-04 -4.85901887e-04 -2.36531760e-04\n",
            "  -9.00597229e-04  5.67396244e-04 -4.43515268e-04  2.31436011e-03\n",
            "  -1.15894234e-03 -5.30155573e-04  8.95463524e-04 -2.00400471e-03\n",
            "   1.45083359e-03  4.30875483e-04  7.03587479e-04  1.82833560e-04\n",
            "   1.79520587e-03  1.23880843e-04  2.98653187e-03  2.08548784e-03\n",
            "  -8.64865177e-04 -7.14577523e-04  2.76501237e-03 -2.10053548e-04]\n",
            " [-1.00773067e-03  1.28894790e-03 -2.63566508e-04  9.25481640e-04\n",
            "   1.56071693e-03 -3.10668801e-03  1.29578181e-03  4.29601459e-03\n",
            "  -9.49069576e-04 -3.02744689e-03  2.13489519e-03 -1.31871025e-03\n",
            "  -2.20264451e-03  1.01585688e-04  1.21550189e-03  6.80181495e-04\n",
            "   1.91639052e-03 -5.37951730e-04 -1.56370989e-03 -2.55208652e-03\n",
            "   7.43598870e-04  2.65845646e-04  2.53264836e-03 -8.73496779e-04\n",
            "  -5.40540563e-06  4.32365149e-04 -3.92676987e-05  3.99191204e-04\n",
            "  -5.30421518e-04  1.06063299e-03  9.96399205e-04 -1.49385560e-03\n",
            "   7.57047339e-04 -2.22644184e-03 -1.21870186e-03  2.21707874e-03\n",
            "   2.85136770e-03 -4.97076258e-04 -5.85143036e-04  6.58640850e-04\n",
            "   2.00629878e-03 -1.61738615e-03 -5.14047350e-04 -3.99681860e-04\n",
            "   2.25248300e-03  2.36853938e-03 -6.11479398e-04 -5.29178343e-04\n",
            "   2.81215905e-04  1.39203830e-03  7.76409326e-04 -1.06287968e-03\n",
            "  -1.38586182e-03 -3.02257845e-05 -1.35384375e-03 -2.16054484e-04\n",
            "   1.56570011e-03  2.17371046e-04 -6.97117929e-04  7.06358196e-04\n",
            "  -7.24350930e-04  7.21236168e-04  1.19741700e-03 -1.26312649e-03\n",
            "   9.00356658e-04  1.76352727e-03  3.54025363e-04  1.11887738e-03\n",
            "  -9.41024407e-04 -3.35581446e-04 -2.10569727e-05 -7.67225239e-04\n",
            "   1.00536405e-03  1.80216954e-03  6.12948654e-04 -1.28838882e-03\n",
            "  -1.05462068e-03  7.89448967e-04 -4.33637431e-04 -1.08467228e-03\n",
            "  -5.75408212e-04 -3.57516551e-04 -3.55295161e-04  1.66441004e-04\n",
            "  -6.93855251e-04 -2.74042080e-04  1.71048694e-03 -5.26325987e-04\n",
            "   1.68416661e-03  7.41854242e-05  7.67945088e-04  3.72030383e-04\n",
            "  -7.61502093e-05 -1.59548114e-04  2.68360639e-03  1.41053426e-03\n",
            "   8.39368566e-04 -2.52594903e-03 -6.65249699e-04 -2.09937551e-04]\n",
            " [-1.32161418e-03  9.52741346e-04 -1.58626964e-03 -9.50329431e-04\n",
            "  -1.60682906e-03 -7.73101284e-04 -2.95508817e-05  2.48316384e-03\n",
            "  -2.56009264e-03 -2.21456868e-03  4.54396307e-04 -8.94319791e-04\n",
            "   1.47882857e-04 -2.09636575e-04  4.20363779e-04  6.40656962e-05\n",
            "   1.38602634e-03 -3.54550857e-04 -7.72064953e-04 -3.61411853e-03\n",
            "  -1.43632683e-03  2.66662239e-04  3.66552532e-03  1.22919231e-03\n",
            "  -1.02915157e-03  7.22970906e-04 -6.53823954e-05 -1.25466840e-03\n",
            "  -1.71537013e-04  1.68605762e-03  1.16503634e-03 -3.17460607e-04\n",
            "  -3.73163128e-05 -8.89914973e-04 -5.78220559e-04  2.18852238e-03\n",
            "  -4.71752306e-04 -8.56245695e-04 -8.83283387e-04 -3.17886108e-03\n",
            "   8.67809751e-04 -1.66817916e-03 -1.31274877e-03  2.11694975e-04\n",
            "   1.03118000e-03  3.21929153e-04 -1.46184529e-03 -1.13402914e-04\n",
            "  -7.44852067e-04  1.90869086e-05  6.93317282e-04 -1.87891892e-03\n",
            "  -2.21502767e-03  7.21780565e-04 -2.75020223e-03  3.25755457e-05\n",
            "   5.66682177e-04 -2.17172095e-03 -2.07505027e-03 -5.94398111e-04\n",
            "   1.67728800e-03  1.12001560e-03  2.95300744e-03 -5.74847205e-05\n",
            "  -1.82509984e-03  2.11011111e-03  7.21715715e-04  2.22389990e-03\n",
            "  -3.25752263e-03 -2.01730724e-04  1.14494643e-03  2.70225443e-03\n",
            "   1.23184909e-03  1.60407154e-03  2.18018352e-03  1.49138690e-03\n",
            "  -4.68182187e-05  9.04645789e-04 -1.58333189e-03  5.82446695e-04\n",
            "   2.29676300e-03 -2.09192997e-03 -6.41744296e-04 -3.11086133e-05\n",
            "  -9.20151161e-04 -2.59289647e-03  9.49052082e-04  1.20324668e-03\n",
            "   5.42208394e-04 -8.00459043e-04  2.00177690e-03  2.04855394e-03\n",
            "   4.81042589e-04  7.02343238e-04  4.62719895e-03  1.25390149e-03\n",
            "   1.90096761e-03 -2.37809297e-03  3.56758070e-04  5.49789916e-04]\n",
            " [ 1.77471436e-04  7.95669166e-04  1.92124613e-03  2.98271472e-03\n",
            "  -1.44325839e-03 -1.68991017e-03  2.30030767e-03  2.47703971e-03\n",
            "  -1.84942479e-03 -2.27802182e-03  1.13857702e-03 -1.76319354e-03\n",
            "   5.15487514e-04  1.26925826e-03 -1.00239617e-03 -5.57714587e-04\n",
            "   1.44753902e-03 -9.31239874e-04 -1.61446754e-03 -2.15312593e-03\n",
            "  -7.80469551e-05  2.94037462e-04  1.99629455e-03 -1.26588080e-03\n",
            "   1.11004910e-03  2.12058715e-04 -1.54646144e-03 -3.46319304e-05\n",
            "  -8.33322287e-04  5.80659613e-04  7.32140043e-04 -6.02141221e-04\n",
            "   2.12647057e-03 -2.73857128e-03 -1.92715380e-03  5.91043165e-04\n",
            "   9.65367861e-04 -2.87579289e-05  1.51727696e-04 -3.03175730e-03\n",
            "  -8.46505987e-04 -8.11530876e-04 -1.22682658e-03 -4.35377796e-04\n",
            "  -3.80832125e-04  5.46084813e-04 -1.58730135e-03 -1.04483426e-03\n",
            "   1.36282070e-03  1.81551445e-03 -4.33832621e-04 -1.48362280e-03\n",
            "  -1.14092088e-03 -7.12906770e-04  6.78887425e-04 -5.15244999e-04\n",
            "   1.47441848e-03 -1.21650729e-03 -1.26492312e-03  1.42968029e-03\n",
            "  -8.60724747e-04 -2.01809879e-04  2.18165105e-04 -1.32530667e-03\n",
            "  -1.14864896e-03  2.24482827e-03  2.62221315e-04  1.68306029e-03\n",
            "  -1.85900133e-03  6.83223717e-04 -1.43518759e-04  1.96101685e-03\n",
            "   2.15949619e-03 -9.40577889e-04  2.49493028e-03 -1.09763109e-03\n",
            "   1.75010788e-03 -1.53990653e-04 -6.67328618e-04 -1.82668578e-04\n",
            "  -1.40200173e-03 -3.03392189e-04 -5.27328352e-04  1.16067336e-03\n",
            "  -1.13628082e-03 -1.52641100e-03  1.92742013e-03 -1.12494830e-03\n",
            "   6.03688105e-04  6.28984031e-04  2.33211893e-03  1.10934025e-03\n",
            "   9.32646397e-04  1.16197570e-03  2.33161524e-03  1.59260488e-03\n",
            "  -1.08278198e-03 -1.58098315e-04 -8.92512668e-05  6.43361545e-04]\n",
            " [-2.64976175e-03  7.24903361e-04  5.82728316e-04  2.09871973e-04\n",
            "   8.60500427e-04 -1.33797153e-03  7.42376703e-05  2.13083841e-03\n",
            "  -1.16473005e-03 -8.42863551e-04  4.29588856e-05 -7.22805378e-04\n",
            "  -9.59229492e-04  8.01901473e-04  6.72264886e-04 -1.55513649e-03\n",
            "   8.59441028e-04  3.04533559e-04 -8.21950919e-04 -2.29764677e-03\n",
            "   2.26319640e-04 -4.20254801e-04  2.88469052e-03 -7.09436025e-04\n",
            "   7.89992553e-04  7.58970536e-04 -1.39112850e-03  2.21302583e-03\n",
            "  -2.84113342e-03  1.76905737e-03  2.18344045e-03 -4.73174689e-05\n",
            "   6.89123342e-04 -1.92941351e-03  2.09318658e-04  1.40994145e-03\n",
            "   1.97352812e-03  6.65486266e-04 -8.33422932e-04  3.83563269e-04\n",
            "   5.12914928e-04 -6.66215127e-04 -1.87555219e-03  3.12035770e-04\n",
            "   7.25584247e-04  4.81219091e-05  1.61711351e-04  3.57486632e-04\n",
            "   7.59480102e-04 -2.74677324e-05  1.19110321e-03 -1.01283613e-03\n",
            "  -6.05708094e-05 -8.27010191e-04 -1.63814954e-03  1.12968291e-03\n",
            "   4.61378932e-04 -4.40796424e-04 -6.98062609e-04  2.56656949e-04\n",
            "   3.95224050e-04 -2.51099440e-04  9.73952555e-04 -8.56842413e-04\n",
            "  -1.39349942e-03  8.36734514e-04  2.14617815e-03  7.22583877e-04\n",
            "  -1.88686598e-03  1.57743484e-03 -5.99176617e-05  6.26314210e-04\n",
            "   1.03293061e-03  2.93314125e-04  1.00039513e-03  1.23992860e-03\n",
            "   5.14158898e-04 -3.92308145e-04 -1.53067095e-03 -1.02422474e-03\n",
            "  -2.62965085e-03 -8.01048445e-05 -2.99104578e-04  1.59349992e-03\n",
            "  -1.62493338e-03 -8.59127732e-04  5.35642878e-04 -4.08981320e-04\n",
            "  -2.56372117e-04 -2.92572626e-04  2.12229627e-03  1.30207809e-03\n",
            "   7.80617933e-04 -2.47166199e-03  2.39846701e-03  4.18638843e-04\n",
            "   1.68546123e-03  4.20325859e-04 -9.06566615e-04 -8.35903504e-05]\n",
            " [-1.09293831e-03 -3.99838988e-04  2.74878003e-04  3.50490751e-04\n",
            "   5.49033671e-04 -1.77459789e-03  5.75201633e-04  2.24634319e-03\n",
            "  -1.89329482e-03 -1.08180952e-03 -3.78047600e-05  8.49671734e-05\n",
            "  -8.70766558e-04 -4.23193491e-04 -5.00336730e-04 -1.35246781e-03\n",
            "   2.54325953e-03 -5.72342654e-04 -9.75446391e-04 -2.50414141e-03\n",
            "  -1.16918164e-03 -8.87680597e-04  2.59562659e-03 -8.43353330e-04\n",
            "  -1.58396082e-04 -4.07324813e-04 -3.49051362e-04  9.81604714e-04\n",
            "  -8.23149322e-04 -2.63116041e-04  1.39061933e-03  1.97167735e-04\n",
            "   8.49783811e-04 -1.88762321e-03 -4.64700933e-04  5.85478838e-04\n",
            "   8.44146786e-04 -9.70690142e-04 -1.28977152e-03 -1.77531210e-04\n",
            "  -1.19673600e-04 -1.72657648e-03 -9.20921451e-04  1.11960935e-03\n",
            "   9.53030451e-04 -9.81178331e-04 -4.19814248e-04  5.22656231e-04\n",
            "  -1.71446268e-05  5.09378150e-04  1.06523107e-03 -6.86553888e-04\n",
            "   2.70710915e-04 -2.53268855e-04 -1.75874444e-03 -3.97245499e-04\n",
            "   2.88944591e-04 -8.24728847e-04  3.52952625e-04  6.02298346e-04\n",
            "  -6.06591624e-04 -8.34608872e-04  1.38434019e-03  3.02729025e-04\n",
            "  -2.12714030e-03  1.06684698e-03  3.41627986e-04  1.25824863e-03\n",
            "  -2.83104897e-03  6.75486649e-04 -4.57982488e-04  1.85940889e-03\n",
            "   3.38306290e-04  1.21339469e-04  1.72352337e-03  2.81379034e-04\n",
            "   8.17182937e-04  2.15680250e-03 -1.27683465e-03 -3.41067063e-04\n",
            "  -1.36602809e-03  4.38436264e-04 -7.30756655e-04  1.18243742e-03\n",
            "  -6.56772874e-04 -4.28274924e-04  1.19932644e-03  8.32853618e-04\n",
            "  -3.96648963e-05  3.05084999e-05  2.37866206e-04  4.43760236e-04\n",
            "   1.07417248e-04 -4.31313546e-04  3.21843651e-03  4.98530297e-04\n",
            "   1.74592310e-03 -1.06259038e-03 -5.83669964e-04 -1.76427923e-04]\n",
            " [-3.30519015e-03  1.20200352e-03 -1.14991627e-03 -2.22952325e-04\n",
            "   7.70500853e-04 -6.21164511e-04  3.59134751e-04  2.72732617e-03\n",
            "  -1.15128240e-03 -5.62977164e-04  5.03153822e-04 -8.31151623e-04\n",
            "   2.48255705e-05 -3.64201104e-04  1.09740355e-03 -1.00851820e-05\n",
            "   8.88150089e-04 -1.00606603e-03 -1.04360358e-03 -2.31567786e-03\n",
            "  -3.05292087e-04  8.35964700e-04  2.73608253e-03  9.30181839e-05\n",
            "  -1.10374240e-03 -3.08450921e-04  2.35939180e-04  7.09086270e-04\n",
            "  -1.15252526e-03  6.24535602e-04  2.95127482e-03 -6.31087421e-04\n",
            "  -6.47912283e-04 -1.13163200e-03  2.21706909e-05  2.05829318e-03\n",
            "   1.08972420e-03  8.33111194e-04 -1.08762091e-03  5.58150086e-04\n",
            "   1.36207675e-03 -2.12269983e-04 -5.06235856e-04 -4.91784234e-05\n",
            "   2.40383986e-03 -9.70513382e-04  8.99216896e-04  6.16446956e-04\n",
            "   7.03915770e-05 -2.31249263e-04  1.11423415e-03 -2.18574316e-05\n",
            "   9.39688884e-04 -5.20466699e-04 -1.47238780e-03 -2.68440605e-04\n",
            "   7.51303487e-04  3.31073867e-04  7.80712595e-04 -9.98206859e-04\n",
            "   3.67713279e-04 -3.00174496e-04  2.73214240e-03 -3.79532193e-04\n",
            "  -1.10527012e-03  8.37037171e-04  8.36555016e-04  2.53404276e-03\n",
            "  -1.45678777e-03  5.76968038e-04  3.86032643e-04  2.66290025e-04\n",
            "   1.79138445e-03  1.40773426e-03 -3.70773329e-04  5.66113718e-04\n",
            "   1.47656153e-05  2.19556303e-04 -8.70311781e-04 -7.49630532e-04\n",
            "  -2.50579776e-03 -4.45016427e-05  3.30349129e-04  9.47378600e-04\n",
            "  -5.67181344e-04 -1.09453473e-03  6.08679991e-04  1.04963579e-03\n",
            "   3.34326277e-04 -3.01156024e-04  4.99775982e-04  3.95744249e-04\n",
            "   6.09291595e-04 -7.92536163e-04  3.23872879e-03  5.41263418e-04\n",
            "   2.04827083e-03 -6.21597009e-04  1.69408698e-03 -1.41031988e-03]\n",
            " [-3.70978930e-03  1.52430422e-03 -5.20934180e-04  1.52895825e-03\n",
            "   1.47882806e-04 -1.41132668e-03  9.01361998e-04  3.00700485e-03\n",
            "  -2.03931482e-03 -5.97492698e-04  7.84179215e-04 -1.52973519e-03\n",
            "  -6.37141122e-04  1.26039533e-03  4.36126484e-04 -3.94125228e-04\n",
            "   1.35163974e-03 -4.95010116e-04 -1.36270745e-03 -1.62479008e-03\n",
            "  -1.41532854e-04 -9.51599292e-04  1.84870533e-03  5.32632162e-04\n",
            "  -1.14157365e-03  7.40668008e-04 -6.11255470e-04 -8.34979187e-04\n",
            "  -1.65668722e-03  1.01285255e-03  2.81580031e-03 -1.66595210e-03\n",
            "   4.96626077e-04 -2.59924594e-05  8.07764387e-04  2.27201105e-03\n",
            "   1.48141903e-03  9.48070818e-04 -1.96544759e-04  1.66266725e-03\n",
            "   1.77793685e-03 -2.08337905e-03 -1.66321642e-03  1.73262928e-03\n",
            "   4.08734528e-04  5.26776758e-05  1.17617240e-03 -1.32959840e-03\n",
            "   1.06425617e-03 -5.92229731e-04  2.20074348e-03 -7.97715443e-04\n",
            "   1.09210138e-03 -3.92654614e-05  1.65976619e-05  3.78173346e-04\n",
            "   2.82976483e-04 -8.10315678e-05 -1.68533443e-04  5.71045536e-04\n",
            "   3.15808541e-04  1.13841426e-03  2.25123934e-03 -1.76609806e-03\n",
            "  -9.14743694e-04  4.28113019e-04  8.34630801e-04  2.21940628e-03\n",
            "  -2.59402621e-04  3.61837118e-04 -2.55213609e-04 -6.17132672e-04\n",
            "   7.87999175e-04  1.18976795e-03  1.02416686e-03  8.56869137e-04\n",
            "  -2.72127291e-03  2.47435919e-04 -6.19095284e-04 -9.25464088e-04\n",
            "  -2.06793649e-03 -2.93506446e-04  4.84389917e-04  1.38428063e-03\n",
            "  -5.10594014e-04 -9.18147112e-04  2.38602493e-04  6.06063404e-04\n",
            "   1.08427140e-03 -1.15453285e-03 -6.39208223e-04  7.06195571e-04\n",
            "   5.86121995e-04  5.89272933e-04  3.50006207e-03  3.52977297e-04\n",
            "   1.75441838e-03 -1.28078381e-03 -3.74084711e-05 -1.32964452e-03]]\n"
          ]
        }
      ]
    },
    {
      "cell_type": "markdown",
      "source": [
        "## 3. Visualización"
      ],
      "metadata": {
        "id": "s-B7C5uK7aUW"
      }
    },
    {
      "cell_type": "code",
      "source": [
        "from sklearn.decomposition import PCA\n",
        "import matplotlib.pyplot as plt\n",
        "\n",
        "# Reducir la dimensionalidad a 2D para visualización\n",
        "pca = PCA(n_components=2)\n",
        "matriz_reducida = pca.fit_transform(matriz_word2vec)\n",
        "\n",
        "# Visualizar los documentos en el espacio reducido\n",
        "plt.figure(figsize=(10, 10))\n",
        "plt.scatter(matriz_reducida[:, 0], matriz_reducida[:, 1])\n",
        "\n",
        "# Anotar los puntos con los índices de los documentos\n",
        "for i in range(len(matriz_reducida)):\n",
        "    plt.annotate(f'Doc {i+1}', (matriz_reducida[i, 0], matriz_reducida[i, 1]))\n",
        "\n",
        "plt.title('Visualización de Documentos usando Word2Vec')\n",
        "plt.xlabel('Dimensión 1')\n",
        "plt.ylabel('Dimensión 2')\n",
        "plt.grid(True)\n",
        "plt.show()\n"
      ],
      "metadata": {
        "colab": {
          "base_uri": "https://localhost:8080/",
          "height": 872
        },
        "id": "FNuA4azj6FxY",
        "outputId": "ba385eec-aa52-47dd-c570-fc13ed8d662c"
      },
      "execution_count": null,
      "outputs": [
        {
          "output_type": "display_data",
          "data": {
            "text/plain": [
              "<Figure size 1000x1000 with 1 Axes>"
            ],
            "image/png": "[encoded data removed]"
          },
          "metadata": {}
        }
      ]
    },
    {
      "cell_type": "markdown",
      "source": [
        "Como tenemos pocos datos, los vectores de palabras que se generaron no son suficientes para agrupar mejor."
      ],
      "metadata": {
        "id": "E_FvzB6i6JQS"
      }
    }
  ]
}